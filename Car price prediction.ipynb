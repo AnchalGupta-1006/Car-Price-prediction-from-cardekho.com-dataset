{
 "cells": [
  {
   "cell_type": "code",
   "execution_count": 56,
   "metadata": {},
   "outputs": [],
   "source": [
    "import pandas as pd \n"
   ]
  },
  {
   "cell_type": "code",
   "execution_count": 53,
   "metadata": {},
   "outputs": [],
   "source": [
    "df= pd.read_csv('Cardata.csv')"
   ]
  },
  {
   "cell_type": "code",
   "execution_count": 54,
   "metadata": {},
   "outputs": [
    {
     "data": {
      "text/html": [
       "<div>\n",
       "<style scoped>\n",
       "    .dataframe tbody tr th:only-of-type {\n",
       "        vertical-align: middle;\n",
       "    }\n",
       "\n",
       "    .dataframe tbody tr th {\n",
       "        vertical-align: top;\n",
       "    }\n",
       "\n",
       "    .dataframe thead th {\n",
       "        text-align: right;\n",
       "    }\n",
       "</style>\n",
       "<table border=\"1\" class=\"dataframe\">\n",
       "  <thead>\n",
       "    <tr style=\"text-align: right;\">\n",
       "      <th></th>\n",
       "      <th>name</th>\n",
       "      <th>year</th>\n",
       "      <th>selling_price</th>\n",
       "      <th>km_driven</th>\n",
       "      <th>fuel</th>\n",
       "      <th>seller_type</th>\n",
       "      <th>transmission</th>\n",
       "      <th>owner</th>\n",
       "    </tr>\n",
       "  </thead>\n",
       "  <tbody>\n",
       "    <tr>\n",
       "      <th>0</th>\n",
       "      <td>Maruti 800 AC</td>\n",
       "      <td>2007</td>\n",
       "      <td>60000</td>\n",
       "      <td>70000</td>\n",
       "      <td>Petrol</td>\n",
       "      <td>Individual</td>\n",
       "      <td>Manual</td>\n",
       "      <td>First Owner</td>\n",
       "    </tr>\n",
       "    <tr>\n",
       "      <th>1</th>\n",
       "      <td>Maruti Wagon R LXI Minor</td>\n",
       "      <td>2007</td>\n",
       "      <td>135000</td>\n",
       "      <td>50000</td>\n",
       "      <td>Petrol</td>\n",
       "      <td>Individual</td>\n",
       "      <td>Manual</td>\n",
       "      <td>First Owner</td>\n",
       "    </tr>\n",
       "  </tbody>\n",
       "</table>\n",
       "</div>"
      ],
      "text/plain": [
       "                       name  year  selling_price  km_driven    fuel  \\\n",
       "0             Maruti 800 AC  2007          60000      70000  Petrol   \n",
       "1  Maruti Wagon R LXI Minor  2007         135000      50000  Petrol   \n",
       "\n",
       "  seller_type transmission        owner  \n",
       "0  Individual       Manual  First Owner  \n",
       "1  Individual       Manual  First Owner  "
      ]
     },
     "execution_count": 54,
     "metadata": {},
     "output_type": "execute_result"
    }
   ],
   "source": [
    "df.head(2)"
   ]
  },
  {
   "cell_type": "code",
   "execution_count": 55,
   "metadata": {},
   "outputs": [
    {
     "data": {
      "text/plain": [
       "(4340, 8)"
      ]
     },
     "execution_count": 55,
     "metadata": {},
     "output_type": "execute_result"
    }
   ],
   "source": [
    "df.shape"
   ]
  },
  {
   "cell_type": "code",
   "execution_count": 5,
   "metadata": {},
   "outputs": [
    {
     "name": "stdout",
     "output_type": "stream",
     "text": [
      "['Individual' 'Dealer' 'Trustmark Dealer']\n",
      "/n\n",
      "['Manual' 'Automatic']\n",
      "['First Owner' 'Second Owner' 'Fourth & Above Owner' 'Third Owner'\n",
      " 'Test Drive Car']\n"
     ]
    }
   ],
   "source": [
    "print(df['seller_type'].unique())\n",
    "print('/n')\n",
    "print(df['transmission'].unique())\n",
    "print(df['owner'].unique())"
   ]
  },
  {
   "cell_type": "code",
   "execution_count": 6,
   "metadata": {},
   "outputs": [],
   "source": [
    "# Check missing or Null values"
   ]
  },
  {
   "cell_type": "code",
   "execution_count": null,
   "metadata": {},
   "outputs": [],
   "source": []
  },
  {
   "cell_type": "code",
   "execution_count": 7,
   "metadata": {},
   "outputs": [
    {
     "data": {
      "text/plain": [
       "name             0\n",
       "year             0\n",
       "selling_price    0\n",
       "km_driven        0\n",
       "fuel             0\n",
       "seller_type      0\n",
       "transmission     0\n",
       "owner            0\n",
       "dtype: int64"
      ]
     },
     "execution_count": 7,
     "metadata": {},
     "output_type": "execute_result"
    }
   ],
   "source": [
    "df.isnull().sum()"
   ]
  },
  {
   "cell_type": "code",
   "execution_count": 8,
   "metadata": {},
   "outputs": [
    {
     "data": {
      "text/plain": [
       "Index(['name', 'year', 'selling_price', 'km_driven', 'fuel', 'seller_type',\n",
       "       'transmission', 'owner'],\n",
       "      dtype='object')"
      ]
     },
     "execution_count": 8,
     "metadata": {},
     "output_type": "execute_result"
    }
   ],
   "source": [
    "df.columns"
   ]
  },
  {
   "cell_type": "code",
   "execution_count": 9,
   "metadata": {},
   "outputs": [],
   "source": [
    "def converter(owner):\n",
    "    if owner=='First Owner':\n",
    "        return 1\n",
    "    elif owner=='Second Owner':\n",
    "        return 2\n",
    "    elif owner=='Fourth & Above Owner' :\n",
    "        return 4\n",
    "    elif owner=='Third Owner':\n",
    "        return 3\n",
    "    else :\n",
    "        return 0\n",
    " "
   ]
  },
  {
   "cell_type": "code",
   "execution_count": 10,
   "metadata": {},
   "outputs": [],
   "source": [
    "df['Owner']=df['owner'].apply(converter)"
   ]
  },
  {
   "cell_type": "code",
   "execution_count": 11,
   "metadata": {},
   "outputs": [
    {
     "data": {
      "text/html": [
       "<div>\n",
       "<style scoped>\n",
       "    .dataframe tbody tr th:only-of-type {\n",
       "        vertical-align: middle;\n",
       "    }\n",
       "\n",
       "    .dataframe tbody tr th {\n",
       "        vertical-align: top;\n",
       "    }\n",
       "\n",
       "    .dataframe thead th {\n",
       "        text-align: right;\n",
       "    }\n",
       "</style>\n",
       "<table border=\"1\" class=\"dataframe\">\n",
       "  <thead>\n",
       "    <tr style=\"text-align: right;\">\n",
       "      <th></th>\n",
       "      <th>name</th>\n",
       "      <th>year</th>\n",
       "      <th>selling_price</th>\n",
       "      <th>km_driven</th>\n",
       "      <th>fuel</th>\n",
       "      <th>seller_type</th>\n",
       "      <th>transmission</th>\n",
       "      <th>owner</th>\n",
       "      <th>Owner</th>\n",
       "    </tr>\n",
       "  </thead>\n",
       "  <tbody>\n",
       "    <tr>\n",
       "      <th>0</th>\n",
       "      <td>Maruti 800 AC</td>\n",
       "      <td>2007</td>\n",
       "      <td>60000</td>\n",
       "      <td>70000</td>\n",
       "      <td>Petrol</td>\n",
       "      <td>Individual</td>\n",
       "      <td>Manual</td>\n",
       "      <td>First Owner</td>\n",
       "      <td>1</td>\n",
       "    </tr>\n",
       "    <tr>\n",
       "      <th>1</th>\n",
       "      <td>Maruti Wagon R LXI Minor</td>\n",
       "      <td>2007</td>\n",
       "      <td>135000</td>\n",
       "      <td>50000</td>\n",
       "      <td>Petrol</td>\n",
       "      <td>Individual</td>\n",
       "      <td>Manual</td>\n",
       "      <td>First Owner</td>\n",
       "      <td>1</td>\n",
       "    </tr>\n",
       "    <tr>\n",
       "      <th>2</th>\n",
       "      <td>Hyundai Verna 1.6 SX</td>\n",
       "      <td>2012</td>\n",
       "      <td>600000</td>\n",
       "      <td>100000</td>\n",
       "      <td>Diesel</td>\n",
       "      <td>Individual</td>\n",
       "      <td>Manual</td>\n",
       "      <td>First Owner</td>\n",
       "      <td>1</td>\n",
       "    </tr>\n",
       "    <tr>\n",
       "      <th>3</th>\n",
       "      <td>Datsun RediGO T Option</td>\n",
       "      <td>2017</td>\n",
       "      <td>250000</td>\n",
       "      <td>46000</td>\n",
       "      <td>Petrol</td>\n",
       "      <td>Individual</td>\n",
       "      <td>Manual</td>\n",
       "      <td>First Owner</td>\n",
       "      <td>1</td>\n",
       "    </tr>\n",
       "    <tr>\n",
       "      <th>4</th>\n",
       "      <td>Honda Amaze VX i-DTEC</td>\n",
       "      <td>2014</td>\n",
       "      <td>450000</td>\n",
       "      <td>141000</td>\n",
       "      <td>Diesel</td>\n",
       "      <td>Individual</td>\n",
       "      <td>Manual</td>\n",
       "      <td>Second Owner</td>\n",
       "      <td>2</td>\n",
       "    </tr>\n",
       "    <tr>\n",
       "      <th>...</th>\n",
       "      <td>...</td>\n",
       "      <td>...</td>\n",
       "      <td>...</td>\n",
       "      <td>...</td>\n",
       "      <td>...</td>\n",
       "      <td>...</td>\n",
       "      <td>...</td>\n",
       "      <td>...</td>\n",
       "      <td>...</td>\n",
       "    </tr>\n",
       "    <tr>\n",
       "      <th>95</th>\n",
       "      <td>Fiat Avventura MULTIJET Emotion</td>\n",
       "      <td>2015</td>\n",
       "      <td>350000</td>\n",
       "      <td>53000</td>\n",
       "      <td>Diesel</td>\n",
       "      <td>Individual</td>\n",
       "      <td>Manual</td>\n",
       "      <td>Second Owner</td>\n",
       "      <td>2</td>\n",
       "    </tr>\n",
       "    <tr>\n",
       "      <th>96</th>\n",
       "      <td>Audi A8 4.2 TDI</td>\n",
       "      <td>2013</td>\n",
       "      <td>2800000</td>\n",
       "      <td>49000</td>\n",
       "      <td>Diesel</td>\n",
       "      <td>Dealer</td>\n",
       "      <td>Automatic</td>\n",
       "      <td>First Owner</td>\n",
       "      <td>1</td>\n",
       "    </tr>\n",
       "    <tr>\n",
       "      <th>97</th>\n",
       "      <td>Datsun RediGO 1.0 S</td>\n",
       "      <td>2017</td>\n",
       "      <td>210000</td>\n",
       "      <td>15000</td>\n",
       "      <td>Petrol</td>\n",
       "      <td>Dealer</td>\n",
       "      <td>Manual</td>\n",
       "      <td>Second Owner</td>\n",
       "      <td>2</td>\n",
       "    </tr>\n",
       "    <tr>\n",
       "      <th>98</th>\n",
       "      <td>Volkswagen Jetta 1.4 TSI Comfortline</td>\n",
       "      <td>2013</td>\n",
       "      <td>450000</td>\n",
       "      <td>50000</td>\n",
       "      <td>Petrol</td>\n",
       "      <td>Individual</td>\n",
       "      <td>Manual</td>\n",
       "      <td>First Owner</td>\n",
       "      <td>1</td>\n",
       "    </tr>\n",
       "    <tr>\n",
       "      <th>99</th>\n",
       "      <td>Audi A4 2.0 TDI 177 Bhp Premium Plus</td>\n",
       "      <td>2013</td>\n",
       "      <td>1150000</td>\n",
       "      <td>53000</td>\n",
       "      <td>Diesel</td>\n",
       "      <td>Dealer</td>\n",
       "      <td>Automatic</td>\n",
       "      <td>First Owner</td>\n",
       "      <td>1</td>\n",
       "    </tr>\n",
       "  </tbody>\n",
       "</table>\n",
       "<p>100 rows × 9 columns</p>\n",
       "</div>"
      ],
      "text/plain": [
       "                                    name  year  selling_price  km_driven  \\\n",
       "0                          Maruti 800 AC  2007          60000      70000   \n",
       "1               Maruti Wagon R LXI Minor  2007         135000      50000   \n",
       "2                   Hyundai Verna 1.6 SX  2012         600000     100000   \n",
       "3                 Datsun RediGO T Option  2017         250000      46000   \n",
       "4                  Honda Amaze VX i-DTEC  2014         450000     141000   \n",
       "..                                   ...   ...            ...        ...   \n",
       "95       Fiat Avventura MULTIJET Emotion  2015         350000      53000   \n",
       "96                       Audi A8 4.2 TDI  2013        2800000      49000   \n",
       "97                   Datsun RediGO 1.0 S  2017         210000      15000   \n",
       "98  Volkswagen Jetta 1.4 TSI Comfortline  2013         450000      50000   \n",
       "99  Audi A4 2.0 TDI 177 Bhp Premium Plus  2013        1150000      53000   \n",
       "\n",
       "      fuel seller_type transmission         owner  Owner  \n",
       "0   Petrol  Individual       Manual   First Owner      1  \n",
       "1   Petrol  Individual       Manual   First Owner      1  \n",
       "2   Diesel  Individual       Manual   First Owner      1  \n",
       "3   Petrol  Individual       Manual   First Owner      1  \n",
       "4   Diesel  Individual       Manual  Second Owner      2  \n",
       "..     ...         ...          ...           ...    ...  \n",
       "95  Diesel  Individual       Manual  Second Owner      2  \n",
       "96  Diesel      Dealer    Automatic   First Owner      1  \n",
       "97  Petrol      Dealer       Manual  Second Owner      2  \n",
       "98  Petrol  Individual       Manual   First Owner      1  \n",
       "99  Diesel      Dealer    Automatic   First Owner      1  \n",
       "\n",
       "[100 rows x 9 columns]"
      ]
     },
     "execution_count": 11,
     "metadata": {},
     "output_type": "execute_result"
    }
   ],
   "source": [
    "df.head(100)"
   ]
  },
  {
   "cell_type": "code",
   "execution_count": 12,
   "metadata": {},
   "outputs": [
    {
     "data": {
      "text/plain": [
       "Index(['name', 'year', 'selling_price', 'km_driven', 'fuel', 'seller_type',\n",
       "       'transmission', 'owner', 'Owner'],\n",
       "      dtype='object')"
      ]
     },
     "execution_count": 12,
     "metadata": {},
     "output_type": "execute_result"
    }
   ],
   "source": [
    "df.columns"
   ]
  },
  {
   "cell_type": "code",
   "execution_count": 13,
   "metadata": {},
   "outputs": [],
   "source": [
    "final_data=df[['year', 'selling_price', 'km_driven', 'fuel', 'seller_type',\n",
    "       'transmission', 'Owner']]"
   ]
  },
  {
   "cell_type": "code",
   "execution_count": 14,
   "metadata": {},
   "outputs": [
    {
     "data": {
      "text/html": [
       "<div>\n",
       "<style scoped>\n",
       "    .dataframe tbody tr th:only-of-type {\n",
       "        vertical-align: middle;\n",
       "    }\n",
       "\n",
       "    .dataframe tbody tr th {\n",
       "        vertical-align: top;\n",
       "    }\n",
       "\n",
       "    .dataframe thead th {\n",
       "        text-align: right;\n",
       "    }\n",
       "</style>\n",
       "<table border=\"1\" class=\"dataframe\">\n",
       "  <thead>\n",
       "    <tr style=\"text-align: right;\">\n",
       "      <th></th>\n",
       "      <th>year</th>\n",
       "      <th>selling_price</th>\n",
       "      <th>km_driven</th>\n",
       "      <th>fuel</th>\n",
       "      <th>seller_type</th>\n",
       "      <th>transmission</th>\n",
       "      <th>Owner</th>\n",
       "    </tr>\n",
       "  </thead>\n",
       "  <tbody>\n",
       "    <tr>\n",
       "      <th>0</th>\n",
       "      <td>2007</td>\n",
       "      <td>60000</td>\n",
       "      <td>70000</td>\n",
       "      <td>Petrol</td>\n",
       "      <td>Individual</td>\n",
       "      <td>Manual</td>\n",
       "      <td>1</td>\n",
       "    </tr>\n",
       "    <tr>\n",
       "      <th>1</th>\n",
       "      <td>2007</td>\n",
       "      <td>135000</td>\n",
       "      <td>50000</td>\n",
       "      <td>Petrol</td>\n",
       "      <td>Individual</td>\n",
       "      <td>Manual</td>\n",
       "      <td>1</td>\n",
       "    </tr>\n",
       "    <tr>\n",
       "      <th>2</th>\n",
       "      <td>2012</td>\n",
       "      <td>600000</td>\n",
       "      <td>100000</td>\n",
       "      <td>Diesel</td>\n",
       "      <td>Individual</td>\n",
       "      <td>Manual</td>\n",
       "      <td>1</td>\n",
       "    </tr>\n",
       "    <tr>\n",
       "      <th>3</th>\n",
       "      <td>2017</td>\n",
       "      <td>250000</td>\n",
       "      <td>46000</td>\n",
       "      <td>Petrol</td>\n",
       "      <td>Individual</td>\n",
       "      <td>Manual</td>\n",
       "      <td>1</td>\n",
       "    </tr>\n",
       "    <tr>\n",
       "      <th>4</th>\n",
       "      <td>2014</td>\n",
       "      <td>450000</td>\n",
       "      <td>141000</td>\n",
       "      <td>Diesel</td>\n",
       "      <td>Individual</td>\n",
       "      <td>Manual</td>\n",
       "      <td>2</td>\n",
       "    </tr>\n",
       "  </tbody>\n",
       "</table>\n",
       "</div>"
      ],
      "text/plain": [
       "   year  selling_price  km_driven    fuel seller_type transmission  Owner\n",
       "0  2007          60000      70000  Petrol  Individual       Manual      1\n",
       "1  2007         135000      50000  Petrol  Individual       Manual      1\n",
       "2  2012         600000     100000  Diesel  Individual       Manual      1\n",
       "3  2017         250000      46000  Petrol  Individual       Manual      1\n",
       "4  2014         450000     141000  Diesel  Individual       Manual      2"
      ]
     },
     "execution_count": 14,
     "metadata": {},
     "output_type": "execute_result"
    }
   ],
   "source": [
    "final_data.head()"
   ]
  },
  {
   "cell_type": "code",
   "execution_count": 15,
   "metadata": {},
   "outputs": [
    {
     "name": "stderr",
     "output_type": "stream",
     "text": [
      "<ipython-input-15-39a5c32c0824>:1: SettingWithCopyWarning: \n",
      "A value is trying to be set on a copy of a slice from a DataFrame.\n",
      "Try using .loc[row_indexer,col_indexer] = value instead\n",
      "\n",
      "See the caveats in the documentation: https://pandas.pydata.org/pandas-docs/stable/user_guide/indexing.html#returning-a-view-versus-a-copy\n",
      "  final_data['Current_year']=2020\n"
     ]
    }
   ],
   "source": [
    "final_data['Current_year']=2020"
   ]
  },
  {
   "cell_type": "code",
   "execution_count": 16,
   "metadata": {},
   "outputs": [
    {
     "data": {
      "text/html": [
       "<div>\n",
       "<style scoped>\n",
       "    .dataframe tbody tr th:only-of-type {\n",
       "        vertical-align: middle;\n",
       "    }\n",
       "\n",
       "    .dataframe tbody tr th {\n",
       "        vertical-align: top;\n",
       "    }\n",
       "\n",
       "    .dataframe thead th {\n",
       "        text-align: right;\n",
       "    }\n",
       "</style>\n",
       "<table border=\"1\" class=\"dataframe\">\n",
       "  <thead>\n",
       "    <tr style=\"text-align: right;\">\n",
       "      <th></th>\n",
       "      <th>year</th>\n",
       "      <th>selling_price</th>\n",
       "      <th>km_driven</th>\n",
       "      <th>fuel</th>\n",
       "      <th>seller_type</th>\n",
       "      <th>transmission</th>\n",
       "      <th>Owner</th>\n",
       "      <th>Current_year</th>\n",
       "    </tr>\n",
       "  </thead>\n",
       "  <tbody>\n",
       "    <tr>\n",
       "      <th>0</th>\n",
       "      <td>2007</td>\n",
       "      <td>60000</td>\n",
       "      <td>70000</td>\n",
       "      <td>Petrol</td>\n",
       "      <td>Individual</td>\n",
       "      <td>Manual</td>\n",
       "      <td>1</td>\n",
       "      <td>2020</td>\n",
       "    </tr>\n",
       "    <tr>\n",
       "      <th>1</th>\n",
       "      <td>2007</td>\n",
       "      <td>135000</td>\n",
       "      <td>50000</td>\n",
       "      <td>Petrol</td>\n",
       "      <td>Individual</td>\n",
       "      <td>Manual</td>\n",
       "      <td>1</td>\n",
       "      <td>2020</td>\n",
       "    </tr>\n",
       "    <tr>\n",
       "      <th>2</th>\n",
       "      <td>2012</td>\n",
       "      <td>600000</td>\n",
       "      <td>100000</td>\n",
       "      <td>Diesel</td>\n",
       "      <td>Individual</td>\n",
       "      <td>Manual</td>\n",
       "      <td>1</td>\n",
       "      <td>2020</td>\n",
       "    </tr>\n",
       "    <tr>\n",
       "      <th>3</th>\n",
       "      <td>2017</td>\n",
       "      <td>250000</td>\n",
       "      <td>46000</td>\n",
       "      <td>Petrol</td>\n",
       "      <td>Individual</td>\n",
       "      <td>Manual</td>\n",
       "      <td>1</td>\n",
       "      <td>2020</td>\n",
       "    </tr>\n",
       "    <tr>\n",
       "      <th>4</th>\n",
       "      <td>2014</td>\n",
       "      <td>450000</td>\n",
       "      <td>141000</td>\n",
       "      <td>Diesel</td>\n",
       "      <td>Individual</td>\n",
       "      <td>Manual</td>\n",
       "      <td>2</td>\n",
       "      <td>2020</td>\n",
       "    </tr>\n",
       "  </tbody>\n",
       "</table>\n",
       "</div>"
      ],
      "text/plain": [
       "   year  selling_price  km_driven    fuel seller_type transmission  Owner  \\\n",
       "0  2007          60000      70000  Petrol  Individual       Manual      1   \n",
       "1  2007         135000      50000  Petrol  Individual       Manual      1   \n",
       "2  2012         600000     100000  Diesel  Individual       Manual      1   \n",
       "3  2017         250000      46000  Petrol  Individual       Manual      1   \n",
       "4  2014         450000     141000  Diesel  Individual       Manual      2   \n",
       "\n",
       "   Current_year  \n",
       "0          2020  \n",
       "1          2020  \n",
       "2          2020  \n",
       "3          2020  \n",
       "4          2020  "
      ]
     },
     "execution_count": 16,
     "metadata": {},
     "output_type": "execute_result"
    }
   ],
   "source": [
    "final_data.head()"
   ]
  },
  {
   "cell_type": "code",
   "execution_count": 17,
   "metadata": {},
   "outputs": [],
   "source": [
    "final_data['No_year']=final_data['Current_year']-final_data['year']"
   ]
  },
  {
   "cell_type": "code",
   "execution_count": 18,
   "metadata": {},
   "outputs": [
    {
     "data": {
      "text/html": [
       "<div>\n",
       "<style scoped>\n",
       "    .dataframe tbody tr th:only-of-type {\n",
       "        vertical-align: middle;\n",
       "    }\n",
       "\n",
       "    .dataframe tbody tr th {\n",
       "        vertical-align: top;\n",
       "    }\n",
       "\n",
       "    .dataframe thead th {\n",
       "        text-align: right;\n",
       "    }\n",
       "</style>\n",
       "<table border=\"1\" class=\"dataframe\">\n",
       "  <thead>\n",
       "    <tr style=\"text-align: right;\">\n",
       "      <th></th>\n",
       "      <th>year</th>\n",
       "      <th>selling_price</th>\n",
       "      <th>km_driven</th>\n",
       "      <th>fuel</th>\n",
       "      <th>seller_type</th>\n",
       "      <th>transmission</th>\n",
       "      <th>Owner</th>\n",
       "      <th>Current_year</th>\n",
       "      <th>No_year</th>\n",
       "    </tr>\n",
       "  </thead>\n",
       "  <tbody>\n",
       "    <tr>\n",
       "      <th>0</th>\n",
       "      <td>2007</td>\n",
       "      <td>60000</td>\n",
       "      <td>70000</td>\n",
       "      <td>Petrol</td>\n",
       "      <td>Individual</td>\n",
       "      <td>Manual</td>\n",
       "      <td>1</td>\n",
       "      <td>2020</td>\n",
       "      <td>13</td>\n",
       "    </tr>\n",
       "    <tr>\n",
       "      <th>1</th>\n",
       "      <td>2007</td>\n",
       "      <td>135000</td>\n",
       "      <td>50000</td>\n",
       "      <td>Petrol</td>\n",
       "      <td>Individual</td>\n",
       "      <td>Manual</td>\n",
       "      <td>1</td>\n",
       "      <td>2020</td>\n",
       "      <td>13</td>\n",
       "    </tr>\n",
       "    <tr>\n",
       "      <th>2</th>\n",
       "      <td>2012</td>\n",
       "      <td>600000</td>\n",
       "      <td>100000</td>\n",
       "      <td>Diesel</td>\n",
       "      <td>Individual</td>\n",
       "      <td>Manual</td>\n",
       "      <td>1</td>\n",
       "      <td>2020</td>\n",
       "      <td>8</td>\n",
       "    </tr>\n",
       "    <tr>\n",
       "      <th>3</th>\n",
       "      <td>2017</td>\n",
       "      <td>250000</td>\n",
       "      <td>46000</td>\n",
       "      <td>Petrol</td>\n",
       "      <td>Individual</td>\n",
       "      <td>Manual</td>\n",
       "      <td>1</td>\n",
       "      <td>2020</td>\n",
       "      <td>3</td>\n",
       "    </tr>\n",
       "    <tr>\n",
       "      <th>4</th>\n",
       "      <td>2014</td>\n",
       "      <td>450000</td>\n",
       "      <td>141000</td>\n",
       "      <td>Diesel</td>\n",
       "      <td>Individual</td>\n",
       "      <td>Manual</td>\n",
       "      <td>2</td>\n",
       "      <td>2020</td>\n",
       "      <td>6</td>\n",
       "    </tr>\n",
       "  </tbody>\n",
       "</table>\n",
       "</div>"
      ],
      "text/plain": [
       "   year  selling_price  km_driven    fuel seller_type transmission  Owner  \\\n",
       "0  2007          60000      70000  Petrol  Individual       Manual      1   \n",
       "1  2007         135000      50000  Petrol  Individual       Manual      1   \n",
       "2  2012         600000     100000  Diesel  Individual       Manual      1   \n",
       "3  2017         250000      46000  Petrol  Individual       Manual      1   \n",
       "4  2014         450000     141000  Diesel  Individual       Manual      2   \n",
       "\n",
       "   Current_year  No_year  \n",
       "0          2020       13  \n",
       "1          2020       13  \n",
       "2          2020        8  \n",
       "3          2020        3  \n",
       "4          2020        6  "
      ]
     },
     "execution_count": 18,
     "metadata": {},
     "output_type": "execute_result"
    }
   ],
   "source": [
    "final_data.head()"
   ]
  },
  {
   "cell_type": "code",
   "execution_count": 19,
   "metadata": {},
   "outputs": [],
   "source": [
    "final_data.drop(['Current_year'],axis=1,inplace=True)"
   ]
  },
  {
   "cell_type": "code",
   "execution_count": 20,
   "metadata": {},
   "outputs": [],
   "source": [
    "final_data.drop(['year'],axis=1,inplace=True)"
   ]
  },
  {
   "cell_type": "code",
   "execution_count": 21,
   "metadata": {
    "scrolled": true
   },
   "outputs": [
    {
     "data": {
      "text/html": [
       "<div>\n",
       "<style scoped>\n",
       "    .dataframe tbody tr th:only-of-type {\n",
       "        vertical-align: middle;\n",
       "    }\n",
       "\n",
       "    .dataframe tbody tr th {\n",
       "        vertical-align: top;\n",
       "    }\n",
       "\n",
       "    .dataframe thead th {\n",
       "        text-align: right;\n",
       "    }\n",
       "</style>\n",
       "<table border=\"1\" class=\"dataframe\">\n",
       "  <thead>\n",
       "    <tr style=\"text-align: right;\">\n",
       "      <th></th>\n",
       "      <th>selling_price</th>\n",
       "      <th>km_driven</th>\n",
       "      <th>fuel</th>\n",
       "      <th>seller_type</th>\n",
       "      <th>transmission</th>\n",
       "      <th>Owner</th>\n",
       "      <th>No_year</th>\n",
       "    </tr>\n",
       "  </thead>\n",
       "  <tbody>\n",
       "    <tr>\n",
       "      <th>0</th>\n",
       "      <td>60000</td>\n",
       "      <td>70000</td>\n",
       "      <td>Petrol</td>\n",
       "      <td>Individual</td>\n",
       "      <td>Manual</td>\n",
       "      <td>1</td>\n",
       "      <td>13</td>\n",
       "    </tr>\n",
       "    <tr>\n",
       "      <th>1</th>\n",
       "      <td>135000</td>\n",
       "      <td>50000</td>\n",
       "      <td>Petrol</td>\n",
       "      <td>Individual</td>\n",
       "      <td>Manual</td>\n",
       "      <td>1</td>\n",
       "      <td>13</td>\n",
       "    </tr>\n",
       "    <tr>\n",
       "      <th>2</th>\n",
       "      <td>600000</td>\n",
       "      <td>100000</td>\n",
       "      <td>Diesel</td>\n",
       "      <td>Individual</td>\n",
       "      <td>Manual</td>\n",
       "      <td>1</td>\n",
       "      <td>8</td>\n",
       "    </tr>\n",
       "    <tr>\n",
       "      <th>3</th>\n",
       "      <td>250000</td>\n",
       "      <td>46000</td>\n",
       "      <td>Petrol</td>\n",
       "      <td>Individual</td>\n",
       "      <td>Manual</td>\n",
       "      <td>1</td>\n",
       "      <td>3</td>\n",
       "    </tr>\n",
       "    <tr>\n",
       "      <th>4</th>\n",
       "      <td>450000</td>\n",
       "      <td>141000</td>\n",
       "      <td>Diesel</td>\n",
       "      <td>Individual</td>\n",
       "      <td>Manual</td>\n",
       "      <td>2</td>\n",
       "      <td>6</td>\n",
       "    </tr>\n",
       "  </tbody>\n",
       "</table>\n",
       "</div>"
      ],
      "text/plain": [
       "   selling_price  km_driven    fuel seller_type transmission  Owner  No_year\n",
       "0          60000      70000  Petrol  Individual       Manual      1       13\n",
       "1         135000      50000  Petrol  Individual       Manual      1       13\n",
       "2         600000     100000  Diesel  Individual       Manual      1        8\n",
       "3         250000      46000  Petrol  Individual       Manual      1        3\n",
       "4         450000     141000  Diesel  Individual       Manual      2        6"
      ]
     },
     "execution_count": 21,
     "metadata": {},
     "output_type": "execute_result"
    }
   ],
   "source": [
    "final_data.head()"
   ]
  },
  {
   "cell_type": "code",
   "execution_count": 22,
   "metadata": {},
   "outputs": [],
   "source": [
    "## We write inplace= True so that it is a permamnent operation. \n",
    "## Now categorical columns need to be given some matematical value so that stats can be applied to them \n",
    "## for that we will import dummy values fro panda library and try to then complete our model\n"
   ]
  },
  {
   "cell_type": "markdown",
   "metadata": {},
   "source": []
  },
  {
   "cell_type": "code",
   "execution_count": 23,
   "metadata": {},
   "outputs": [],
   "source": [
    "final_data=pd.get_dummies(final_data,drop_first=True)"
   ]
  },
  {
   "cell_type": "code",
   "execution_count": 24,
   "metadata": {
    "scrolled": true
   },
   "outputs": [
    {
     "data": {
      "text/html": [
       "<div>\n",
       "<style scoped>\n",
       "    .dataframe tbody tr th:only-of-type {\n",
       "        vertical-align: middle;\n",
       "    }\n",
       "\n",
       "    .dataframe tbody tr th {\n",
       "        vertical-align: top;\n",
       "    }\n",
       "\n",
       "    .dataframe thead th {\n",
       "        text-align: right;\n",
       "    }\n",
       "</style>\n",
       "<table border=\"1\" class=\"dataframe\">\n",
       "  <thead>\n",
       "    <tr style=\"text-align: right;\">\n",
       "      <th></th>\n",
       "      <th>selling_price</th>\n",
       "      <th>km_driven</th>\n",
       "      <th>Owner</th>\n",
       "      <th>No_year</th>\n",
       "      <th>fuel_Diesel</th>\n",
       "      <th>fuel_Electric</th>\n",
       "      <th>fuel_LPG</th>\n",
       "      <th>fuel_Petrol</th>\n",
       "      <th>seller_type_Individual</th>\n",
       "      <th>seller_type_Trustmark Dealer</th>\n",
       "      <th>transmission_Manual</th>\n",
       "    </tr>\n",
       "  </thead>\n",
       "  <tbody>\n",
       "    <tr>\n",
       "      <th>0</th>\n",
       "      <td>60000</td>\n",
       "      <td>70000</td>\n",
       "      <td>1</td>\n",
       "      <td>13</td>\n",
       "      <td>0</td>\n",
       "      <td>0</td>\n",
       "      <td>0</td>\n",
       "      <td>1</td>\n",
       "      <td>1</td>\n",
       "      <td>0</td>\n",
       "      <td>1</td>\n",
       "    </tr>\n",
       "    <tr>\n",
       "      <th>1</th>\n",
       "      <td>135000</td>\n",
       "      <td>50000</td>\n",
       "      <td>1</td>\n",
       "      <td>13</td>\n",
       "      <td>0</td>\n",
       "      <td>0</td>\n",
       "      <td>0</td>\n",
       "      <td>1</td>\n",
       "      <td>1</td>\n",
       "      <td>0</td>\n",
       "      <td>1</td>\n",
       "    </tr>\n",
       "    <tr>\n",
       "      <th>2</th>\n",
       "      <td>600000</td>\n",
       "      <td>100000</td>\n",
       "      <td>1</td>\n",
       "      <td>8</td>\n",
       "      <td>1</td>\n",
       "      <td>0</td>\n",
       "      <td>0</td>\n",
       "      <td>0</td>\n",
       "      <td>1</td>\n",
       "      <td>0</td>\n",
       "      <td>1</td>\n",
       "    </tr>\n",
       "    <tr>\n",
       "      <th>3</th>\n",
       "      <td>250000</td>\n",
       "      <td>46000</td>\n",
       "      <td>1</td>\n",
       "      <td>3</td>\n",
       "      <td>0</td>\n",
       "      <td>0</td>\n",
       "      <td>0</td>\n",
       "      <td>1</td>\n",
       "      <td>1</td>\n",
       "      <td>0</td>\n",
       "      <td>1</td>\n",
       "    </tr>\n",
       "    <tr>\n",
       "      <th>4</th>\n",
       "      <td>450000</td>\n",
       "      <td>141000</td>\n",
       "      <td>2</td>\n",
       "      <td>6</td>\n",
       "      <td>1</td>\n",
       "      <td>0</td>\n",
       "      <td>0</td>\n",
       "      <td>0</td>\n",
       "      <td>1</td>\n",
       "      <td>0</td>\n",
       "      <td>1</td>\n",
       "    </tr>\n",
       "  </tbody>\n",
       "</table>\n",
       "</div>"
      ],
      "text/plain": [
       "   selling_price  km_driven  Owner  No_year  fuel_Diesel  fuel_Electric  \\\n",
       "0          60000      70000      1       13            0              0   \n",
       "1         135000      50000      1       13            0              0   \n",
       "2         600000     100000      1        8            1              0   \n",
       "3         250000      46000      1        3            0              0   \n",
       "4         450000     141000      2        6            1              0   \n",
       "\n",
       "   fuel_LPG  fuel_Petrol  seller_type_Individual  \\\n",
       "0         0            1                       1   \n",
       "1         0            1                       1   \n",
       "2         0            0                       1   \n",
       "3         0            1                       1   \n",
       "4         0            0                       1   \n",
       "\n",
       "   seller_type_Trustmark Dealer  transmission_Manual  \n",
       "0                             0                    1  \n",
       "1                             0                    1  \n",
       "2                             0                    1  \n",
       "3                             0                    1  \n",
       "4                             0                    1  "
      ]
     },
     "execution_count": 24,
     "metadata": {},
     "output_type": "execute_result"
    }
   ],
   "source": [
    "final_data.head()"
   ]
  },
  {
   "cell_type": "code",
   "execution_count": null,
   "metadata": {},
   "outputs": [],
   "source": []
  },
  {
   "cell_type": "code",
   "execution_count": null,
   "metadata": {},
   "outputs": [],
   "source": []
  },
  {
   "cell_type": "code",
   "execution_count": null,
   "metadata": {},
   "outputs": [],
   "source": []
  },
  {
   "cell_type": "code",
   "execution_count": 25,
   "metadata": {},
   "outputs": [
    {
     "data": {
      "text/html": [
       "<div>\n",
       "<style scoped>\n",
       "    .dataframe tbody tr th:only-of-type {\n",
       "        vertical-align: middle;\n",
       "    }\n",
       "\n",
       "    .dataframe tbody tr th {\n",
       "        vertical-align: top;\n",
       "    }\n",
       "\n",
       "    .dataframe thead th {\n",
       "        text-align: right;\n",
       "    }\n",
       "</style>\n",
       "<table border=\"1\" class=\"dataframe\">\n",
       "  <thead>\n",
       "    <tr style=\"text-align: right;\">\n",
       "      <th></th>\n",
       "      <th>selling_price</th>\n",
       "      <th>km_driven</th>\n",
       "      <th>Owner</th>\n",
       "      <th>No_year</th>\n",
       "      <th>fuel_Diesel</th>\n",
       "      <th>fuel_Electric</th>\n",
       "      <th>fuel_LPG</th>\n",
       "      <th>fuel_Petrol</th>\n",
       "      <th>seller_type_Individual</th>\n",
       "      <th>seller_type_Trustmark Dealer</th>\n",
       "      <th>transmission_Manual</th>\n",
       "    </tr>\n",
       "  </thead>\n",
       "  <tbody>\n",
       "    <tr>\n",
       "      <th>selling_price</th>\n",
       "      <td>1.000000</td>\n",
       "      <td>-0.192289</td>\n",
       "      <td>-0.228091</td>\n",
       "      <td>-0.413922</td>\n",
       "      <td>0.282947</td>\n",
       "      <td>-0.005095</td>\n",
       "      <td>-0.042434</td>\n",
       "      <td>-0.269453</td>\n",
       "      <td>-0.236798</td>\n",
       "      <td>0.110176</td>\n",
       "      <td>-0.530205</td>\n",
       "    </tr>\n",
       "    <tr>\n",
       "      <th>km_driven</th>\n",
       "      <td>-0.192289</td>\n",
       "      <td>1.000000</td>\n",
       "      <td>0.321848</td>\n",
       "      <td>0.419688</td>\n",
       "      <td>0.285396</td>\n",
       "      <td>-0.001372</td>\n",
       "      <td>0.036652</td>\n",
       "      <td>-0.291139</td>\n",
       "      <td>0.182663</td>\n",
       "      <td>-0.089858</td>\n",
       "      <td>0.120226</td>\n",
       "    </tr>\n",
       "    <tr>\n",
       "      <th>Owner</th>\n",
       "      <td>-0.228091</td>\n",
       "      <td>0.321848</td>\n",
       "      <td>1.000000</td>\n",
       "      <td>0.468678</td>\n",
       "      <td>-0.002201</td>\n",
       "      <td>0.011789</td>\n",
       "      <td>0.029943</td>\n",
       "      <td>-0.008409</td>\n",
       "      <td>0.265812</td>\n",
       "      <td>-0.088840</td>\n",
       "      <td>0.083226</td>\n",
       "    </tr>\n",
       "    <tr>\n",
       "      <th>No_year</th>\n",
       "      <td>-0.413922</td>\n",
       "      <td>0.419688</td>\n",
       "      <td>0.468678</td>\n",
       "      <td>1.000000</td>\n",
       "      <td>-0.121424</td>\n",
       "      <td>0.025540</td>\n",
       "      <td>0.051266</td>\n",
       "      <td>0.114908</td>\n",
       "      <td>0.173703</td>\n",
       "      <td>-0.100225</td>\n",
       "      <td>0.143800</td>\n",
       "    </tr>\n",
       "    <tr>\n",
       "      <th>fuel_Diesel</th>\n",
       "      <td>0.282947</td>\n",
       "      <td>0.285396</td>\n",
       "      <td>-0.002201</td>\n",
       "      <td>-0.121424</td>\n",
       "      <td>1.000000</td>\n",
       "      <td>-0.015063</td>\n",
       "      <td>-0.072422</td>\n",
       "      <td>-0.970934</td>\n",
       "      <td>-0.035314</td>\n",
       "      <td>-0.007911</td>\n",
       "      <td>-0.048098</td>\n",
       "    </tr>\n",
       "    <tr>\n",
       "      <th>fuel_Electric</th>\n",
       "      <td>-0.005095</td>\n",
       "      <td>-0.001372</td>\n",
       "      <td>0.011789</td>\n",
       "      <td>0.025540</td>\n",
       "      <td>-0.015063</td>\n",
       "      <td>1.000000</td>\n",
       "      <td>-0.001108</td>\n",
       "      <td>-0.014856</td>\n",
       "      <td>-0.026118</td>\n",
       "      <td>-0.002355</td>\n",
       "      <td>-0.044746</td>\n",
       "    </tr>\n",
       "    <tr>\n",
       "      <th>fuel_LPG</th>\n",
       "      <td>-0.042434</td>\n",
       "      <td>0.036652</td>\n",
       "      <td>0.029943</td>\n",
       "      <td>0.051266</td>\n",
       "      <td>-0.072422</td>\n",
       "      <td>-0.001108</td>\n",
       "      <td>1.000000</td>\n",
       "      <td>-0.071427</td>\n",
       "      <td>0.035122</td>\n",
       "      <td>-0.011324</td>\n",
       "      <td>0.024764</td>\n",
       "    </tr>\n",
       "    <tr>\n",
       "      <th>fuel_Petrol</th>\n",
       "      <td>-0.269453</td>\n",
       "      <td>-0.291139</td>\n",
       "      <td>-0.008409</td>\n",
       "      <td>0.114908</td>\n",
       "      <td>-0.970934</td>\n",
       "      <td>-0.014856</td>\n",
       "      <td>-0.071427</td>\n",
       "      <td>1.000000</td>\n",
       "      <td>0.029845</td>\n",
       "      <td>0.012489</td>\n",
       "      <td>0.039614</td>\n",
       "    </tr>\n",
       "    <tr>\n",
       "      <th>seller_type_Individual</th>\n",
       "      <td>-0.236798</td>\n",
       "      <td>0.182663</td>\n",
       "      <td>0.265812</td>\n",
       "      <td>0.173703</td>\n",
       "      <td>-0.035314</td>\n",
       "      <td>-0.026118</td>\n",
       "      <td>0.035122</td>\n",
       "      <td>0.029845</td>\n",
       "      <td>1.000000</td>\n",
       "      <td>-0.266904</td>\n",
       "      <td>0.214163</td>\n",
       "    </tr>\n",
       "    <tr>\n",
       "      <th>seller_type_Trustmark Dealer</th>\n",
       "      <td>0.110176</td>\n",
       "      <td>-0.089858</td>\n",
       "      <td>-0.088840</td>\n",
       "      <td>-0.100225</td>\n",
       "      <td>-0.007911</td>\n",
       "      <td>-0.002355</td>\n",
       "      <td>-0.011324</td>\n",
       "      <td>0.012489</td>\n",
       "      <td>-0.266904</td>\n",
       "      <td>1.000000</td>\n",
       "      <td>-0.042346</td>\n",
       "    </tr>\n",
       "    <tr>\n",
       "      <th>transmission_Manual</th>\n",
       "      <td>-0.530205</td>\n",
       "      <td>0.120226</td>\n",
       "      <td>0.083226</td>\n",
       "      <td>0.143800</td>\n",
       "      <td>-0.048098</td>\n",
       "      <td>-0.044746</td>\n",
       "      <td>0.024764</td>\n",
       "      <td>0.039614</td>\n",
       "      <td>0.214163</td>\n",
       "      <td>-0.042346</td>\n",
       "      <td>1.000000</td>\n",
       "    </tr>\n",
       "  </tbody>\n",
       "</table>\n",
       "</div>"
      ],
      "text/plain": [
       "                              selling_price  km_driven     Owner   No_year  \\\n",
       "selling_price                      1.000000  -0.192289 -0.228091 -0.413922   \n",
       "km_driven                         -0.192289   1.000000  0.321848  0.419688   \n",
       "Owner                             -0.228091   0.321848  1.000000  0.468678   \n",
       "No_year                           -0.413922   0.419688  0.468678  1.000000   \n",
       "fuel_Diesel                        0.282947   0.285396 -0.002201 -0.121424   \n",
       "fuel_Electric                     -0.005095  -0.001372  0.011789  0.025540   \n",
       "fuel_LPG                          -0.042434   0.036652  0.029943  0.051266   \n",
       "fuel_Petrol                       -0.269453  -0.291139 -0.008409  0.114908   \n",
       "seller_type_Individual            -0.236798   0.182663  0.265812  0.173703   \n",
       "seller_type_Trustmark Dealer       0.110176  -0.089858 -0.088840 -0.100225   \n",
       "transmission_Manual               -0.530205   0.120226  0.083226  0.143800   \n",
       "\n",
       "                              fuel_Diesel  fuel_Electric  fuel_LPG  \\\n",
       "selling_price                    0.282947      -0.005095 -0.042434   \n",
       "km_driven                        0.285396      -0.001372  0.036652   \n",
       "Owner                           -0.002201       0.011789  0.029943   \n",
       "No_year                         -0.121424       0.025540  0.051266   \n",
       "fuel_Diesel                      1.000000      -0.015063 -0.072422   \n",
       "fuel_Electric                   -0.015063       1.000000 -0.001108   \n",
       "fuel_LPG                        -0.072422      -0.001108  1.000000   \n",
       "fuel_Petrol                     -0.970934      -0.014856 -0.071427   \n",
       "seller_type_Individual          -0.035314      -0.026118  0.035122   \n",
       "seller_type_Trustmark Dealer    -0.007911      -0.002355 -0.011324   \n",
       "transmission_Manual             -0.048098      -0.044746  0.024764   \n",
       "\n",
       "                              fuel_Petrol  seller_type_Individual  \\\n",
       "selling_price                   -0.269453               -0.236798   \n",
       "km_driven                       -0.291139                0.182663   \n",
       "Owner                           -0.008409                0.265812   \n",
       "No_year                          0.114908                0.173703   \n",
       "fuel_Diesel                     -0.970934               -0.035314   \n",
       "fuel_Electric                   -0.014856               -0.026118   \n",
       "fuel_LPG                        -0.071427                0.035122   \n",
       "fuel_Petrol                      1.000000                0.029845   \n",
       "seller_type_Individual           0.029845                1.000000   \n",
       "seller_type_Trustmark Dealer     0.012489               -0.266904   \n",
       "transmission_Manual              0.039614                0.214163   \n",
       "\n",
       "                              seller_type_Trustmark Dealer  \\\n",
       "selling_price                                     0.110176   \n",
       "km_driven                                        -0.089858   \n",
       "Owner                                            -0.088840   \n",
       "No_year                                          -0.100225   \n",
       "fuel_Diesel                                      -0.007911   \n",
       "fuel_Electric                                    -0.002355   \n",
       "fuel_LPG                                         -0.011324   \n",
       "fuel_Petrol                                       0.012489   \n",
       "seller_type_Individual                           -0.266904   \n",
       "seller_type_Trustmark Dealer                      1.000000   \n",
       "transmission_Manual                              -0.042346   \n",
       "\n",
       "                              transmission_Manual  \n",
       "selling_price                           -0.530205  \n",
       "km_driven                                0.120226  \n",
       "Owner                                    0.083226  \n",
       "No_year                                  0.143800  \n",
       "fuel_Diesel                             -0.048098  \n",
       "fuel_Electric                           -0.044746  \n",
       "fuel_LPG                                 0.024764  \n",
       "fuel_Petrol                              0.039614  \n",
       "seller_type_Individual                   0.214163  \n",
       "seller_type_Trustmark Dealer            -0.042346  \n",
       "transmission_Manual                      1.000000  "
      ]
     },
     "execution_count": 25,
     "metadata": {},
     "output_type": "execute_result"
    }
   ],
   "source": [
    "final_data.corr()"
   ]
  },
  {
   "cell_type": "code",
   "execution_count": 26,
   "metadata": {},
   "outputs": [],
   "source": [
    "import seaborn as sns"
   ]
  },
  {
   "cell_type": "code",
   "execution_count": 27,
   "metadata": {
    "scrolled": true
   },
   "outputs": [
    {
     "data": {
      "text/plain": [
       "<seaborn.axisgrid.PairGrid at 0x1dff1297b80>"
      ]
     },
     "execution_count": 27,
     "metadata": {},
     "output_type": "execute_result"
    },
    {
     "data": {
      "image/png": "[encoded data removed]",
      "text/plain": [
       "<Figure size 720x720 with 20 Axes>"
      ]
     },
     "metadata": {
      "needs_background": "light"
     },
     "output_type": "display_data"
    }
   ],
   "source": [
    "sns.pairplot(df)"
   ]
  },
  {
   "cell_type": "code",
   "execution_count": 28,
   "metadata": {},
   "outputs": [],
   "source": [
    "import matplotlib.pyplot as plt\n",
    "%matplotlib inline"
   ]
  },
  {
   "cell_type": "code",
   "execution_count": 29,
   "metadata": {},
   "outputs": [
    {
     "data": {
      "image/png": "[encoded data removed]",
      "text/plain": [
       "<Figure size 720x720 with 2 Axes>"
      ]
     },
     "metadata": {
      "needs_background": "light"
     },
     "output_type": "display_data"
    }
   ],
   "source": [
    "cormat=final_data.corr()\n",
    "top_corr_features=cormat.index\n",
    "plt.figure(figsize=(10,10))\n",
    "g=sns.heatmap(final_data[top_corr_features].corr(),annot=True)"
   ]
  },
  {
   "cell_type": "code",
   "execution_count": 30,
   "metadata": {},
   "outputs": [
    {
     "data": {
      "text/html": [
       "<div>\n",
       "<style scoped>\n",
       "    .dataframe tbody tr th:only-of-type {\n",
       "        vertical-align: middle;\n",
       "    }\n",
       "\n",
       "    .dataframe tbody tr th {\n",
       "        vertical-align: top;\n",
       "    }\n",
       "\n",
       "    .dataframe thead th {\n",
       "        text-align: right;\n",
       "    }\n",
       "</style>\n",
       "<table border=\"1\" class=\"dataframe\">\n",
       "  <thead>\n",
       "    <tr style=\"text-align: right;\">\n",
       "      <th></th>\n",
       "      <th>selling_price</th>\n",
       "      <th>km_driven</th>\n",
       "      <th>Owner</th>\n",
       "      <th>No_year</th>\n",
       "      <th>fuel_Diesel</th>\n",
       "      <th>fuel_Electric</th>\n",
       "      <th>fuel_LPG</th>\n",
       "      <th>fuel_Petrol</th>\n",
       "      <th>seller_type_Individual</th>\n",
       "      <th>seller_type_Trustmark Dealer</th>\n",
       "      <th>transmission_Manual</th>\n",
       "    </tr>\n",
       "  </thead>\n",
       "  <tbody>\n",
       "    <tr>\n",
       "      <th>0</th>\n",
       "      <td>60000</td>\n",
       "      <td>70000</td>\n",
       "      <td>1</td>\n",
       "      <td>13</td>\n",
       "      <td>0</td>\n",
       "      <td>0</td>\n",
       "      <td>0</td>\n",
       "      <td>1</td>\n",
       "      <td>1</td>\n",
       "      <td>0</td>\n",
       "      <td>1</td>\n",
       "    </tr>\n",
       "    <tr>\n",
       "      <th>1</th>\n",
       "      <td>135000</td>\n",
       "      <td>50000</td>\n",
       "      <td>1</td>\n",
       "      <td>13</td>\n",
       "      <td>0</td>\n",
       "      <td>0</td>\n",
       "      <td>0</td>\n",
       "      <td>1</td>\n",
       "      <td>1</td>\n",
       "      <td>0</td>\n",
       "      <td>1</td>\n",
       "    </tr>\n",
       "    <tr>\n",
       "      <th>2</th>\n",
       "      <td>600000</td>\n",
       "      <td>100000</td>\n",
       "      <td>1</td>\n",
       "      <td>8</td>\n",
       "      <td>1</td>\n",
       "      <td>0</td>\n",
       "      <td>0</td>\n",
       "      <td>0</td>\n",
       "      <td>1</td>\n",
       "      <td>0</td>\n",
       "      <td>1</td>\n",
       "    </tr>\n",
       "    <tr>\n",
       "      <th>3</th>\n",
       "      <td>250000</td>\n",
       "      <td>46000</td>\n",
       "      <td>1</td>\n",
       "      <td>3</td>\n",
       "      <td>0</td>\n",
       "      <td>0</td>\n",
       "      <td>0</td>\n",
       "      <td>1</td>\n",
       "      <td>1</td>\n",
       "      <td>0</td>\n",
       "      <td>1</td>\n",
       "    </tr>\n",
       "    <tr>\n",
       "      <th>4</th>\n",
       "      <td>450000</td>\n",
       "      <td>141000</td>\n",
       "      <td>2</td>\n",
       "      <td>6</td>\n",
       "      <td>1</td>\n",
       "      <td>0</td>\n",
       "      <td>0</td>\n",
       "      <td>0</td>\n",
       "      <td>1</td>\n",
       "      <td>0</td>\n",
       "      <td>1</td>\n",
       "    </tr>\n",
       "  </tbody>\n",
       "</table>\n",
       "</div>"
      ],
      "text/plain": [
       "   selling_price  km_driven  Owner  No_year  fuel_Diesel  fuel_Electric  \\\n",
       "0          60000      70000      1       13            0              0   \n",
       "1         135000      50000      1       13            0              0   \n",
       "2         600000     100000      1        8            1              0   \n",
       "3         250000      46000      1        3            0              0   \n",
       "4         450000     141000      2        6            1              0   \n",
       "\n",
       "   fuel_LPG  fuel_Petrol  seller_type_Individual  \\\n",
       "0         0            1                       1   \n",
       "1         0            1                       1   \n",
       "2         0            0                       1   \n",
       "3         0            1                       1   \n",
       "4         0            0                       1   \n",
       "\n",
       "   seller_type_Trustmark Dealer  transmission_Manual  \n",
       "0                             0                    1  \n",
       "1                             0                    1  \n",
       "2                             0                    1  \n",
       "3                             0                    1  \n",
       "4                             0                    1  "
      ]
     },
     "execution_count": 30,
     "metadata": {},
     "output_type": "execute_result"
    }
   ],
   "source": [
    "final_data.head(5)"
   ]
  },
  {
   "cell_type": "code",
   "execution_count": 31,
   "metadata": {},
   "outputs": [],
   "source": [
    "X=final_data.iloc[:,1:]\n",
    "y=final_data.iloc[:,0]"
   ]
  },
  {
   "cell_type": "code",
   "execution_count": 32,
   "metadata": {},
   "outputs": [
    {
     "data": {
      "text/html": [
       "<div>\n",
       "<style scoped>\n",
       "    .dataframe tbody tr th:only-of-type {\n",
       "        vertical-align: middle;\n",
       "    }\n",
       "\n",
       "    .dataframe tbody tr th {\n",
       "        vertical-align: top;\n",
       "    }\n",
       "\n",
       "    .dataframe thead th {\n",
       "        text-align: right;\n",
       "    }\n",
       "</style>\n",
       "<table border=\"1\" class=\"dataframe\">\n",
       "  <thead>\n",
       "    <tr style=\"text-align: right;\">\n",
       "      <th></th>\n",
       "      <th>km_driven</th>\n",
       "      <th>Owner</th>\n",
       "      <th>No_year</th>\n",
       "      <th>fuel_Diesel</th>\n",
       "      <th>fuel_Electric</th>\n",
       "      <th>fuel_LPG</th>\n",
       "      <th>fuel_Petrol</th>\n",
       "      <th>seller_type_Individual</th>\n",
       "      <th>seller_type_Trustmark Dealer</th>\n",
       "      <th>transmission_Manual</th>\n",
       "    </tr>\n",
       "  </thead>\n",
       "  <tbody>\n",
       "    <tr>\n",
       "      <th>0</th>\n",
       "      <td>70000</td>\n",
       "      <td>1</td>\n",
       "      <td>13</td>\n",
       "      <td>0</td>\n",
       "      <td>0</td>\n",
       "      <td>0</td>\n",
       "      <td>1</td>\n",
       "      <td>1</td>\n",
       "      <td>0</td>\n",
       "      <td>1</td>\n",
       "    </tr>\n",
       "    <tr>\n",
       "      <th>1</th>\n",
       "      <td>50000</td>\n",
       "      <td>1</td>\n",
       "      <td>13</td>\n",
       "      <td>0</td>\n",
       "      <td>0</td>\n",
       "      <td>0</td>\n",
       "      <td>1</td>\n",
       "      <td>1</td>\n",
       "      <td>0</td>\n",
       "      <td>1</td>\n",
       "    </tr>\n",
       "    <tr>\n",
       "      <th>2</th>\n",
       "      <td>100000</td>\n",
       "      <td>1</td>\n",
       "      <td>8</td>\n",
       "      <td>1</td>\n",
       "      <td>0</td>\n",
       "      <td>0</td>\n",
       "      <td>0</td>\n",
       "      <td>1</td>\n",
       "      <td>0</td>\n",
       "      <td>1</td>\n",
       "    </tr>\n",
       "    <tr>\n",
       "      <th>3</th>\n",
       "      <td>46000</td>\n",
       "      <td>1</td>\n",
       "      <td>3</td>\n",
       "      <td>0</td>\n",
       "      <td>0</td>\n",
       "      <td>0</td>\n",
       "      <td>1</td>\n",
       "      <td>1</td>\n",
       "      <td>0</td>\n",
       "      <td>1</td>\n",
       "    </tr>\n",
       "    <tr>\n",
       "      <th>4</th>\n",
       "      <td>141000</td>\n",
       "      <td>2</td>\n",
       "      <td>6</td>\n",
       "      <td>1</td>\n",
       "      <td>0</td>\n",
       "      <td>0</td>\n",
       "      <td>0</td>\n",
       "      <td>1</td>\n",
       "      <td>0</td>\n",
       "      <td>1</td>\n",
       "    </tr>\n",
       "  </tbody>\n",
       "</table>\n",
       "</div>"
      ],
      "text/plain": [
       "   km_driven  Owner  No_year  fuel_Diesel  fuel_Electric  fuel_LPG  \\\n",
       "0      70000      1       13            0              0         0   \n",
       "1      50000      1       13            0              0         0   \n",
       "2     100000      1        8            1              0         0   \n",
       "3      46000      1        3            0              0         0   \n",
       "4     141000      2        6            1              0         0   \n",
       "\n",
       "   fuel_Petrol  seller_type_Individual  seller_type_Trustmark Dealer  \\\n",
       "0            1                       1                             0   \n",
       "1            1                       1                             0   \n",
       "2            0                       1                             0   \n",
       "3            1                       1                             0   \n",
       "4            0                       1                             0   \n",
       "\n",
       "   transmission_Manual  \n",
       "0                    1  \n",
       "1                    1  \n",
       "2                    1  \n",
       "3                    1  \n",
       "4                    1  "
      ]
     },
     "execution_count": 32,
     "metadata": {},
     "output_type": "execute_result"
    }
   ],
   "source": [
    "X.head()"
   ]
  },
  {
   "cell_type": "code",
   "execution_count": 33,
   "metadata": {},
   "outputs": [
    {
     "data": {
      "text/plain": [
       "0     60000\n",
       "1    135000\n",
       "2    600000\n",
       "3    250000\n",
       "4    450000\n",
       "Name: selling_price, dtype: int64"
      ]
     },
     "execution_count": 33,
     "metadata": {},
     "output_type": "execute_result"
    }
   ],
   "source": [
    "y.head()"
   ]
  },
  {
   "cell_type": "code",
   "execution_count": 34,
   "metadata": {},
   "outputs": [
    {
     "data": {
      "text/plain": [
       "ExtraTreesRegressor()"
      ]
     },
     "execution_count": 34,
     "metadata": {},
     "output_type": "execute_result"
    }
   ],
   "source": [
    "from sklearn.ensemble import ExtraTreesRegressor\n",
    "model=ExtraTreesRegressor()\n",
    "model.fit(X,y)"
   ]
  },
  {
   "cell_type": "code",
   "execution_count": 35,
   "metadata": {},
   "outputs": [
    {
     "name": "stdout",
     "output_type": "stream",
     "text": [
      "[2.49412959e-01 2.85497037e-02 2.47281486e-01 1.29964405e-01\n",
      " 2.29352945e-05 2.44904852e-05 2.21199817e-04 4.34547729e-02\n",
      " 8.23613306e-03 2.92831915e-01]\n"
     ]
    }
   ],
   "source": [
    "print(model.feature_importances_)"
   ]
  },
  {
   "cell_type": "code",
   "execution_count": 36,
   "metadata": {},
   "outputs": [
    {
     "data": {
      "image/png": "[encoded data removed]",
      "text/plain": [
       "<Figure size 432x288 with 1 Axes>"
      ]
     },
     "metadata": {
      "needs_background": "light"
     },
     "output_type": "display_data"
    }
   ],
   "source": [
    "feat_importances= pd.Series(model.feature_importances_,index=X.columns)\n",
    "feat_importances.nlargest(5).plot(kind='barh')\n",
    "plt.show()"
   ]
  },
  {
   "cell_type": "code",
   "execution_count": 37,
   "metadata": {},
   "outputs": [],
   "source": [
    "from sklearn.model_selection import train_test_split\n",
    "X_train,X_test,y_train,y_test=train_test_split(X,y,test_size=0.2)"
   ]
  },
  {
   "cell_type": "code",
   "execution_count": 38,
   "metadata": {},
   "outputs": [
    {
     "data": {
      "text/plain": [
       "(3472, 10)"
      ]
     },
     "execution_count": 38,
     "metadata": {},
     "output_type": "execute_result"
    }
   ],
   "source": [
    "X_train.shape"
   ]
  },
  {
   "cell_type": "code",
   "execution_count": 39,
   "metadata": {},
   "outputs": [],
   "source": [
    "from sklearn.ensemble import RandomForestRegressor\n",
    "rf_random= RandomForestRegressor()"
   ]
  },
  {
   "cell_type": "code",
   "execution_count": 40,
   "metadata": {},
   "outputs": [
    {
     "name": "stdout",
     "output_type": "stream",
     "text": [
      "[100, 200, 300, 400, 500, 600, 700, 800, 900, 1000, 1100, 1200]\n"
     ]
    }
   ],
   "source": [
    "## Hyperparameters\n",
    "import numpy as np\n",
    "n_estimators=[int(x) for x in np.linspace(start=100,stop=1200,num=12)]\n",
    "print(n_estimators)"
   ]
  },
  {
   "cell_type": "code",
   "execution_count": 41,
   "metadata": {},
   "outputs": [],
   "source": [
    "# Randomize Search CV\n",
    "# No of trees in random forest \n",
    "n_estimators=[int(x) for x in np.linspace(start=100,stop=1200,num=12)]\n",
    "#Number of features to consider at every split\n",
    "max_features =['auto','sqrt']\n",
    "#Maximum number of level in tree \n",
    "max_depth=[int(x) for x in np.linspace(5,30,num=6)]\n",
    "#max_depth.append(None)\n",
    "#Minimum number of samples required to split a node\n",
    "min_samples_split=[2,5,10,15,100]\n",
    "#Minimum number of samples required at each leaf node\n",
    "min_samples_leaf=[1,2,5,10]"
   ]
  },
  {
   "cell_type": "code",
   "execution_count": 42,
   "metadata": {},
   "outputs": [],
   "source": [
    "from sklearn.model_selection import RandomizedSearchCV"
   ]
  },
  {
   "cell_type": "code",
   "execution_count": 43,
   "metadata": {},
   "outputs": [
    {
     "name": "stdout",
     "output_type": "stream",
     "text": [
      "{'n_estimators': [100, 200, 300, 400, 500, 600, 700, 800, 900, 1000, 1100, 1200], 'max_features': ['auto', 'sqrt'], 'max_depth': [5, 10, 15, 20, 25, 30], 'min_samples_split': [2, 5, 10, 15, 100], 'min_samples_leaf': [1, 2, 5, 10]}\n"
     ]
    }
   ],
   "source": [
    "# Create the random grid\n",
    "random_grid={'n_estimators':n_estimators,\n",
    "            'max_features': max_features,\n",
    "            'max_depth':max_depth,\n",
    "            'min_samples_split':min_samples_split,\n",
    "            'min_samples_leaf': min_samples_leaf}\n",
    "print(random_grid) "
   ]
  },
  {
   "cell_type": "code",
   "execution_count": 44,
   "metadata": {},
   "outputs": [],
   "source": [
    "#Use the random grid to search foer the best hyperparameters\n",
    "# First create the base modelto tune \n",
    "rf=RandomForestRegressor()"
   ]
  },
  {
   "cell_type": "code",
   "execution_count": 45,
   "metadata": {},
   "outputs": [],
   "source": [
    "rf_random=RandomizedSearchCV(estimator=rf,param_distributions=random_grid,scoring='neg_mean_squared_error',n_iter=10,cv=5,verbose=2,random_state=42,n_jobs=1)"
   ]
  },
  {
   "cell_type": "code",
   "execution_count": 46,
   "metadata": {},
   "outputs": [
    {
     "name": "stdout",
     "output_type": "stream",
     "text": [
      "Fitting 5 folds for each of 10 candidates, totalling 50 fits\n",
      "[CV] n_estimators=900, min_samples_split=5, min_samples_leaf=5, max_features=sqrt, max_depth=10 \n"
     ]
    },
    {
     "name": "stderr",
     "output_type": "stream",
     "text": [
      "[Parallel(n_jobs=1)]: Using backend SequentialBackend with 1 concurrent workers.\n"
     ]
    },
    {
     "name": "stdout",
     "output_type": "stream",
     "text": [
      "[CV]  n_estimators=900, min_samples_split=5, min_samples_leaf=5, max_features=sqrt, max_depth=10, total=   1.4s\n",
      "[CV] n_estimators=900, min_samples_split=5, min_samples_leaf=5, max_features=sqrt, max_depth=10 \n"
     ]
    },
    {
     "name": "stderr",
     "output_type": "stream",
     "text": [
      "[Parallel(n_jobs=1)]: Done   1 out of   1 | elapsed:    1.3s remaining:    0.0s\n"
     ]
    },
    {
     "name": "stdout",
     "output_type": "stream",
     "text": [
      "[CV]  n_estimators=900, min_samples_split=5, min_samples_leaf=5, max_features=sqrt, max_depth=10, total=   1.4s\n",
      "[CV] n_estimators=900, min_samples_split=5, min_samples_leaf=5, max_features=sqrt, max_depth=10 \n",
      "[CV]  n_estimators=900, min_samples_split=5, min_samples_leaf=5, max_features=sqrt, max_depth=10, total=   1.4s\n",
      "[CV] n_estimators=900, min_samples_split=5, min_samples_leaf=5, max_features=sqrt, max_depth=10 \n",
      "[CV]  n_estimators=900, min_samples_split=5, min_samples_leaf=5, max_features=sqrt, max_depth=10, total=   1.3s\n",
      "[CV] n_estimators=900, min_samples_split=5, min_samples_leaf=5, max_features=sqrt, max_depth=10 \n",
      "[CV]  n_estimators=900, min_samples_split=5, min_samples_leaf=5, max_features=sqrt, max_depth=10, total=   1.4s\n",
      "[CV] n_estimators=1100, min_samples_split=10, min_samples_leaf=2, max_features=sqrt, max_depth=15 \n",
      "[CV]  n_estimators=1100, min_samples_split=10, min_samples_leaf=2, max_features=sqrt, max_depth=15, total=   2.0s\n",
      "[CV] n_estimators=1100, min_samples_split=10, min_samples_leaf=2, max_features=sqrt, max_depth=15 \n",
      "[CV]  n_estimators=1100, min_samples_split=10, min_samples_leaf=2, max_features=sqrt, max_depth=15, total=   1.9s\n",
      "[CV] n_estimators=1100, min_samples_split=10, min_samples_leaf=2, max_features=sqrt, max_depth=15 \n",
      "[CV]  n_estimators=1100, min_samples_split=10, min_samples_leaf=2, max_features=sqrt, max_depth=15, total=   1.9s\n",
      "[CV] n_estimators=1100, min_samples_split=10, min_samples_leaf=2, max_features=sqrt, max_depth=15 \n",
      "[CV]  n_estimators=1100, min_samples_split=10, min_samples_leaf=2, max_features=sqrt, max_depth=15, total=   1.9s\n",
      "[CV] n_estimators=1100, min_samples_split=10, min_samples_leaf=2, max_features=sqrt, max_depth=15 \n",
      "[CV]  n_estimators=1100, min_samples_split=10, min_samples_leaf=2, max_features=sqrt, max_depth=15, total=   2.0s\n",
      "[CV] n_estimators=300, min_samples_split=100, min_samples_leaf=5, max_features=auto, max_depth=15 \n",
      "[CV]  n_estimators=300, min_samples_split=100, min_samples_leaf=5, max_features=auto, max_depth=15, total=   0.6s\n",
      "[CV] n_estimators=300, min_samples_split=100, min_samples_leaf=5, max_features=auto, max_depth=15 \n",
      "[CV]  n_estimators=300, min_samples_split=100, min_samples_leaf=5, max_features=auto, max_depth=15, total=   0.6s\n",
      "[CV] n_estimators=300, min_samples_split=100, min_samples_leaf=5, max_features=auto, max_depth=15 \n",
      "[CV]  n_estimators=300, min_samples_split=100, min_samples_leaf=5, max_features=auto, max_depth=15, total=   0.6s\n",
      "[CV] n_estimators=300, min_samples_split=100, min_samples_leaf=5, max_features=auto, max_depth=15 \n",
      "[CV]  n_estimators=300, min_samples_split=100, min_samples_leaf=5, max_features=auto, max_depth=15, total=   0.6s\n",
      "[CV] n_estimators=300, min_samples_split=100, min_samples_leaf=5, max_features=auto, max_depth=15 \n",
      "[CV]  n_estimators=300, min_samples_split=100, min_samples_leaf=5, max_features=auto, max_depth=15, total=   0.6s\n",
      "[CV] n_estimators=400, min_samples_split=5, min_samples_leaf=5, max_features=auto, max_depth=15 \n",
      "[CV]  n_estimators=400, min_samples_split=5, min_samples_leaf=5, max_features=auto, max_depth=15, total=   1.1s\n",
      "[CV] n_estimators=400, min_samples_split=5, min_samples_leaf=5, max_features=auto, max_depth=15 \n",
      "[CV]  n_estimators=400, min_samples_split=5, min_samples_leaf=5, max_features=auto, max_depth=15, total=   1.1s\n",
      "[CV] n_estimators=400, min_samples_split=5, min_samples_leaf=5, max_features=auto, max_depth=15 \n",
      "[CV]  n_estimators=400, min_samples_split=5, min_samples_leaf=5, max_features=auto, max_depth=15, total=   1.0s\n",
      "[CV] n_estimators=400, min_samples_split=5, min_samples_leaf=5, max_features=auto, max_depth=15 \n",
      "[CV]  n_estimators=400, min_samples_split=5, min_samples_leaf=5, max_features=auto, max_depth=15, total=   1.0s\n",
      "[CV] n_estimators=400, min_samples_split=5, min_samples_leaf=5, max_features=auto, max_depth=15 \n",
      "[CV]  n_estimators=400, min_samples_split=5, min_samples_leaf=5, max_features=auto, max_depth=15, total=   1.0s\n",
      "[CV] n_estimators=700, min_samples_split=5, min_samples_leaf=10, max_features=auto, max_depth=20 \n",
      "[CV]  n_estimators=700, min_samples_split=5, min_samples_leaf=10, max_features=auto, max_depth=20, total=   1.6s\n",
      "[CV] n_estimators=700, min_samples_split=5, min_samples_leaf=10, max_features=auto, max_depth=20 \n",
      "[CV]  n_estimators=700, min_samples_split=5, min_samples_leaf=10, max_features=auto, max_depth=20, total=   1.6s\n",
      "[CV] n_estimators=700, min_samples_split=5, min_samples_leaf=10, max_features=auto, max_depth=20 \n",
      "[CV]  n_estimators=700, min_samples_split=5, min_samples_leaf=10, max_features=auto, max_depth=20, total=   1.6s\n",
      "[CV] n_estimators=700, min_samples_split=5, min_samples_leaf=10, max_features=auto, max_depth=20 \n",
      "[CV]  n_estimators=700, min_samples_split=5, min_samples_leaf=10, max_features=auto, max_depth=20, total=   1.6s\n",
      "[CV] n_estimators=700, min_samples_split=5, min_samples_leaf=10, max_features=auto, max_depth=20 \n",
      "[CV]  n_estimators=700, min_samples_split=5, min_samples_leaf=10, max_features=auto, max_depth=20, total=   1.6s\n",
      "[CV] n_estimators=1000, min_samples_split=2, min_samples_leaf=1, max_features=sqrt, max_depth=25 \n",
      "[CV]  n_estimators=1000, min_samples_split=2, min_samples_leaf=1, max_features=sqrt, max_depth=25, total=   2.6s\n",
      "[CV] n_estimators=1000, min_samples_split=2, min_samples_leaf=1, max_features=sqrt, max_depth=25 \n",
      "[CV]  n_estimators=1000, min_samples_split=2, min_samples_leaf=1, max_features=sqrt, max_depth=25, total=   2.6s\n",
      "[CV] n_estimators=1000, min_samples_split=2, min_samples_leaf=1, max_features=sqrt, max_depth=25 \n",
      "[CV]  n_estimators=1000, min_samples_split=2, min_samples_leaf=1, max_features=sqrt, max_depth=25, total=   2.6s\n",
      "[CV] n_estimators=1000, min_samples_split=2, min_samples_leaf=1, max_features=sqrt, max_depth=25 \n",
      "[CV]  n_estimators=1000, min_samples_split=2, min_samples_leaf=1, max_features=sqrt, max_depth=25, total=   2.6s\n",
      "[CV] n_estimators=1000, min_samples_split=2, min_samples_leaf=1, max_features=sqrt, max_depth=25 \n",
      "[CV]  n_estimators=1000, min_samples_split=2, min_samples_leaf=1, max_features=sqrt, max_depth=25, total=   2.6s\n",
      "[CV] n_estimators=1100, min_samples_split=15, min_samples_leaf=10, max_features=sqrt, max_depth=5 \n",
      "[CV]  n_estimators=1100, min_samples_split=15, min_samples_leaf=10, max_features=sqrt, max_depth=5, total=   1.4s\n",
      "[CV] n_estimators=1100, min_samples_split=15, min_samples_leaf=10, max_features=sqrt, max_depth=5 \n",
      "[CV]  n_estimators=1100, min_samples_split=15, min_samples_leaf=10, max_features=sqrt, max_depth=5, total=   1.4s\n",
      "[CV] n_estimators=1100, min_samples_split=15, min_samples_leaf=10, max_features=sqrt, max_depth=5 \n",
      "[CV]  n_estimators=1100, min_samples_split=15, min_samples_leaf=10, max_features=sqrt, max_depth=5, total=   1.4s\n",
      "[CV] n_estimators=1100, min_samples_split=15, min_samples_leaf=10, max_features=sqrt, max_depth=5 \n",
      "[CV]  n_estimators=1100, min_samples_split=15, min_samples_leaf=10, max_features=sqrt, max_depth=5, total=   1.4s\n",
      "[CV] n_estimators=1100, min_samples_split=15, min_samples_leaf=10, max_features=sqrt, max_depth=5 \n",
      "[CV]  n_estimators=1100, min_samples_split=15, min_samples_leaf=10, max_features=sqrt, max_depth=5, total=   1.4s\n",
      "[CV] n_estimators=300, min_samples_split=15, min_samples_leaf=1, max_features=sqrt, max_depth=15 \n",
      "[CV]  n_estimators=300, min_samples_split=15, min_samples_leaf=1, max_features=sqrt, max_depth=15, total=   0.5s\n",
      "[CV] n_estimators=300, min_samples_split=15, min_samples_leaf=1, max_features=sqrt, max_depth=15 \n",
      "[CV]  n_estimators=300, min_samples_split=15, min_samples_leaf=1, max_features=sqrt, max_depth=15, total=   0.5s\n",
      "[CV] n_estimators=300, min_samples_split=15, min_samples_leaf=1, max_features=sqrt, max_depth=15 \n",
      "[CV]  n_estimators=300, min_samples_split=15, min_samples_leaf=1, max_features=sqrt, max_depth=15, total=   0.5s\n",
      "[CV] n_estimators=300, min_samples_split=15, min_samples_leaf=1, max_features=sqrt, max_depth=15 \n",
      "[CV]  n_estimators=300, min_samples_split=15, min_samples_leaf=1, max_features=sqrt, max_depth=15, total=   0.5s\n",
      "[CV] n_estimators=300, min_samples_split=15, min_samples_leaf=1, max_features=sqrt, max_depth=15 \n",
      "[CV]  n_estimators=300, min_samples_split=15, min_samples_leaf=1, max_features=sqrt, max_depth=15, total=   0.5s\n",
      "[CV] n_estimators=700, min_samples_split=10, min_samples_leaf=2, max_features=sqrt, max_depth=5 \n"
     ]
    },
    {
     "name": "stdout",
     "output_type": "stream",
     "text": [
      "[CV]  n_estimators=700, min_samples_split=10, min_samples_leaf=2, max_features=sqrt, max_depth=5, total=   0.9s\n",
      "[CV] n_estimators=700, min_samples_split=10, min_samples_leaf=2, max_features=sqrt, max_depth=5 \n",
      "[CV]  n_estimators=700, min_samples_split=10, min_samples_leaf=2, max_features=sqrt, max_depth=5, total=   0.9s\n",
      "[CV] n_estimators=700, min_samples_split=10, min_samples_leaf=2, max_features=sqrt, max_depth=5 \n",
      "[CV]  n_estimators=700, min_samples_split=10, min_samples_leaf=2, max_features=sqrt, max_depth=5, total=   0.9s\n",
      "[CV] n_estimators=700, min_samples_split=10, min_samples_leaf=2, max_features=sqrt, max_depth=5 \n",
      "[CV]  n_estimators=700, min_samples_split=10, min_samples_leaf=2, max_features=sqrt, max_depth=5, total=   0.9s\n",
      "[CV] n_estimators=700, min_samples_split=10, min_samples_leaf=2, max_features=sqrt, max_depth=5 \n",
      "[CV]  n_estimators=700, min_samples_split=10, min_samples_leaf=2, max_features=sqrt, max_depth=5, total=   0.9s\n",
      "[CV] n_estimators=700, min_samples_split=15, min_samples_leaf=1, max_features=auto, max_depth=20 \n",
      "[CV]  n_estimators=700, min_samples_split=15, min_samples_leaf=1, max_features=auto, max_depth=20, total=   1.9s\n",
      "[CV] n_estimators=700, min_samples_split=15, min_samples_leaf=1, max_features=auto, max_depth=20 \n",
      "[CV]  n_estimators=700, min_samples_split=15, min_samples_leaf=1, max_features=auto, max_depth=20, total=   1.9s\n",
      "[CV] n_estimators=700, min_samples_split=15, min_samples_leaf=1, max_features=auto, max_depth=20 \n",
      "[CV]  n_estimators=700, min_samples_split=15, min_samples_leaf=1, max_features=auto, max_depth=20, total=   1.9s\n",
      "[CV] n_estimators=700, min_samples_split=15, min_samples_leaf=1, max_features=auto, max_depth=20 \n",
      "[CV]  n_estimators=700, min_samples_split=15, min_samples_leaf=1, max_features=auto, max_depth=20, total=   1.9s\n",
      "[CV] n_estimators=700, min_samples_split=15, min_samples_leaf=1, max_features=auto, max_depth=20 \n",
      "[CV]  n_estimators=700, min_samples_split=15, min_samples_leaf=1, max_features=auto, max_depth=20, total=   1.9s\n"
     ]
    },
    {
     "name": "stderr",
     "output_type": "stream",
     "text": [
      "[Parallel(n_jobs=1)]: Done  50 out of  50 | elapsed:  1.2min finished\n"
     ]
    },
    {
     "data": {
      "text/plain": [
       "RandomizedSearchCV(cv=5, estimator=RandomForestRegressor(), n_jobs=1,\n",
       "                   param_distributions={'max_depth': [5, 10, 15, 20, 25, 30],\n",
       "                                        'max_features': ['auto', 'sqrt'],\n",
       "                                        'min_samples_leaf': [1, 2, 5, 10],\n",
       "                                        'min_samples_split': [2, 5, 10, 15,\n",
       "                                                              100],\n",
       "                                        'n_estimators': [100, 200, 300, 400,\n",
       "                                                         500, 600, 700, 800,\n",
       "                                                         900, 1000, 1100,\n",
       "                                                         1200]},\n",
       "                   random_state=42, scoring='neg_mean_squared_error',\n",
       "                   verbose=2)"
      ]
     },
     "execution_count": 46,
     "metadata": {},
     "output_type": "execute_result"
    }
   ],
   "source": [
    "rf_random.fit(X_train,y_train)"
   ]
  },
  {
   "cell_type": "code",
   "execution_count": 47,
   "metadata": {},
   "outputs": [],
   "source": [
    "predictions=rf_random.predict(X_test)"
   ]
  },
  {
   "cell_type": "code",
   "execution_count": 48,
   "metadata": {},
   "outputs": [
    {
     "data": {
      "text/plain": [
       "array([ 928147.89032163,  420215.23027444,  764108.38938318,\n",
       "        132284.96592414,  558268.15419429,  220579.09734139,\n",
       "        100978.00720442,  558596.59998817,  314237.18572962,\n",
       "        412367.35811743,  122040.00919533,  219589.74707395,\n",
       "        698490.16990874,  367656.52818287,  477956.72779649,\n",
       "        321114.98597189,  176573.81753274,  726955.51940796,\n",
       "        991299.81237835,  104954.77433353,  168329.71294814,\n",
       "        506572.05492973,  528855.14453808,  258419.34869762,\n",
       "        349778.81326202,  134808.90911722,  554857.77095092,\n",
       "        829174.15340806,  120677.04478179,  249334.44950712,\n",
       "        856847.68800744,  953639.1257655 ,  618491.87197692,\n",
       "        393346.68982229,  708525.75074513,  655519.12129052,\n",
       "        506572.05492973,  781868.53646649,  233627.27601968,\n",
       "        254062.96254927,  814892.7929234 ,  284708.16075674,\n",
       "        391301.37873083,  323168.55181595,  699968.32388162,\n",
       "        193452.32894802,  110057.03912537,  103783.94775804,\n",
       "        403962.67323122, 2321798.73412941,  927393.96117224,\n",
       "        507911.5387014 ,  483814.59725259,  437333.13153077,\n",
       "        750533.0192347 ,  506164.75010104,  209753.43538398,\n",
       "        651165.10586074,  100523.69001192,  536270.48467354,\n",
       "        719712.34329818,  503683.08832147,  613579.92826925,\n",
       "        361298.55438054,  140435.16547804,  315344.50107557,\n",
       "        276870.52814217,  217755.16420376,  220542.19978394,\n",
       "        421880.57631134,  325491.10293892,  308657.00113695,\n",
       "        242879.70976121,  592249.48042937,  761308.51486401,\n",
       "        263279.20219082,  242198.96238365,  399531.4495328 ,\n",
       "        797612.24835726,  295913.13853634,  272075.71556088,\n",
       "        373380.91536275,  529215.27379244,  693261.40602052,\n",
       "        222907.900432  ,  182724.42034814,   91512.18461467,\n",
       "       4342183.73348297,  252201.58622987,  667328.15367718,\n",
       "        742530.92518659,  212466.01895793,  567579.89315439,\n",
       "        555062.94677431,  503137.70781986, 1981222.71714913,\n",
       "        574493.33780034,  698442.48110958,  411070.17112058,\n",
       "        296705.69791173,  452928.98703633,  276870.52814217,\n",
       "        497100.99161709,  497119.59348753,  651165.10586074,\n",
       "        638307.96093176,  193452.32894802,  505008.79411875,\n",
       "        268464.36263744,   84075.88694708,  290978.09945193,\n",
       "        443393.6364251 ,  131815.89581628,  412367.35811743,\n",
       "        305557.74453492,  477956.72779649,  195059.38284548,\n",
       "        721879.51335764,  419557.54029639,  499458.48607253,\n",
       "       2198255.54457898,  856392.4358499 ,  233338.57148813,\n",
       "        744953.21586302,  125177.49391297,  389055.83181993,\n",
       "        186194.47813387,  307329.52079352,  114213.64159522,\n",
       "        909890.42697793,  869016.90250058,  999312.80271646,\n",
       "        518591.00562628,  300966.50725532,  731004.06931167,\n",
       "        718710.87260203, 1411322.98868218,  490892.53533721,\n",
       "        160743.73012591,  370574.647789  ,  785177.80397855,\n",
       "        178473.15760768,  239809.54223874,  498242.32597433,\n",
       "        379188.1752829 ,  227807.96988243,  306683.2672884 ,\n",
       "        341355.96212271,  597381.63599006,  389055.83181993,\n",
       "        655519.12129052,  159826.33769906,  678283.64704112,\n",
       "        269156.2776529 ,  122040.00919533,  128730.96143271,\n",
       "        216789.59522324,  475884.10242235,  189451.83114258,\n",
       "        320732.75201905,  233075.69913946,  294438.29183389,\n",
       "        227810.35990026,  149679.37173675,  203437.9008663 ,\n",
       "        284708.16075674,  321890.86583774,  227827.92814708,\n",
       "        149679.37173675,  315344.50107557,  952273.25291845,\n",
       "       1139375.58397527,  983371.00481522, 1040897.11938044,\n",
       "        447604.45455538,  202997.66211668,  188074.91600788,\n",
       "        298098.0342375 ,  517380.76987528,  454837.2081938 ,\n",
       "        234115.82702294,  289458.31015857,  915971.16225371,\n",
       "        369693.38593753,  662379.92870598,  193452.32894802,\n",
       "       1304950.67317985, 2321798.73412941,  507749.81032347,\n",
       "        126230.25362226,  274043.69445899, 1065323.83812152,\n",
       "        369693.38593753,  454837.2081938 ,  345660.12875765,\n",
       "        672694.452433  ,  335528.34068174,  391279.74797162,\n",
       "        638235.61492985,  299219.4526151 ,  701008.3800228 ,\n",
       "        337974.56695889,  116238.8040448 ,  470769.19443305,\n",
       "        904418.60569103,  506572.05492973,  635050.97597248,\n",
       "        282166.18806064,  570007.71405412,  304681.15841245,\n",
       "        374409.31911414,  329888.17705874,  237195.9923372 ,\n",
       "        208407.20703245, 4342183.73348297, 2965742.5003419 ,\n",
       "        557513.14808623,  370574.647789  ,  733665.17805794,\n",
       "        668976.54931508,  744953.21586302,  277835.57643839,\n",
       "        364915.66085291,  430360.6081089 ,  429078.35270682,\n",
       "        140435.16547804,  928147.89032163,  589714.20960191,\n",
       "        744949.67667283,  477956.72779649,  233338.57148813,\n",
       "        133973.77461123,  251199.44708423,  728545.23779024,\n",
       "        638307.96093176,  265557.5655688 ,  107211.9212166 ,\n",
       "        753731.40001616,  390424.97057121, 1046172.52906119,\n",
       "        530418.38464027,  753731.40001616,  673790.20777185,\n",
       "        185506.59540489,  277189.74623354,  777735.25643042,\n",
       "        298157.28867679, 1139375.58397527,  123324.40934493,\n",
       "        687208.26579905,  237741.67135861,  206232.22817985,\n",
       "        336369.06371443,   90670.4813709 ,  228708.91405042,\n",
       "        492681.14152669,   97750.76335616,  253958.95968214,\n",
       "        203155.82351665,  156912.31391159,  483541.48353996,\n",
       "        489681.52543767,  284708.16075674,  590821.05499724,\n",
       "       1309401.87070266,  352253.87224183,  920578.99038667,\n",
       "        107622.97538853,  429078.35270682,  101462.14775098,\n",
       "        375044.82109884,  732834.59385411,  540306.19265514,\n",
       "        268464.36263744,  302755.43139787,  101752.81591388,\n",
       "        539956.89425208,  296033.4306256 ,  483814.59725259,\n",
       "        126225.31803529,  272853.8612031 ,  615005.29920561,\n",
       "        555151.64506885,  116535.32291339,  194437.55984627,\n",
       "        662379.92870598,  352253.87224183,  413992.22710306,\n",
       "        545346.67222169,  420099.72592659,  555151.64506885,\n",
       "        430918.93654524,  536249.68636821,  309338.98428849,\n",
       "       1416151.9539776 , 1423463.54677345,  698254.05876569,\n",
       "        909331.46616483,  903457.63438371,  622011.5870682 ,\n",
       "        669146.08878565,  651165.10586074,  542746.94335429,\n",
       "        114733.98661765,  501408.25327852,  294438.29183389,\n",
       "        318183.24954122,  342539.74550308,  577817.91612829,\n",
       "        841402.21193739,  933381.36938176,  221235.58647004,\n",
       "        250717.24773351,  100523.69001192,  341108.59618823,\n",
       "        265772.05609007,  615005.29920561,  665158.62178784,\n",
       "       2185050.77298544,  662797.30362502,  386613.0370509 ,\n",
       "        758550.39551839,   81079.64937734,  442723.14997415,\n",
       "        168278.01259691,  450017.90100812,  352253.87224183,\n",
       "        295273.97940238,  133973.77461123,  355582.44162672,\n",
       "        283520.0518905 ,  413992.22710306,  277189.74623354,\n",
       "        389055.83181993,  418224.53470853, 1055050.10891812,\n",
       "        163451.35094104,  664665.79785129,  311884.67416731,\n",
       "       1309401.87070266,  511498.64789355,  199467.76683006,\n",
       "        298098.0342375 ,  233627.27601968,  673790.20777185,\n",
       "        430763.42596988,  252201.58622987,  253958.95968214,\n",
       "        845364.42151726, 1002924.79251934,  928147.89032163,\n",
       "        242127.28937513,  873253.16087819,  399415.37883693,\n",
       "        100523.69001192,  810189.67613433,  251600.62859769,\n",
       "        302529.61271262,  915971.16225371,  118850.5205361 ,\n",
       "        432000.32508643,  444451.0734319 ,  651165.10586074,\n",
       "        523019.31425608,  186194.47813387,  337747.63756535,\n",
       "        216891.7533506 ,  898074.81272089,  667328.15367718,\n",
       "        436481.04520817,  337747.63756535,  499816.69835807,\n",
       "        109478.70789795,  230143.42448743,  536249.68636821,\n",
       "        277232.15505178,  538101.22429689,   96369.88757402,\n",
       "        134771.45751404, 1139375.58397527,  546495.97781816,\n",
       "        747297.48499421,  462543.96989063, 1530831.24028203,\n",
       "        535841.15298631,  470924.30262138,  534041.66187189,\n",
       "        287927.53459241,  589714.20960191,  519354.54776604,\n",
       "        107615.29647474,  143298.22679932,  295306.38933593,\n",
       "        195059.38284548,  485722.70883882,  280382.24655903,\n",
       "        129654.02485576,  351334.24588835,  254062.96254927,\n",
       "        330710.9598495 ,  169685.20478162,  344137.75055947,\n",
       "        277503.60743449,  496892.65174372,  281149.65652386,\n",
       "        431664.51259833,  101295.4129486 ,  656735.25646698,\n",
       "        631770.56876238,  389055.83181993,  228364.10471495,\n",
       "        336369.06371443,  452928.98703633,  389055.83181993,\n",
       "        349078.11958411,  201188.8156582 ,  338607.8408551 ,\n",
       "        459698.36321485,  955647.71301104,  188028.66997524,\n",
       "        107885.92253092,  234580.05949243,  138433.6336007 ,\n",
       "        527695.13623171,  856121.28097339,  554245.0815218 ,\n",
       "        743879.24387061,  320875.76600374,  255058.88205178,\n",
       "        512566.72191938, 1607174.58130039,  273006.3538676 ,\n",
       "        807375.17855007,  543969.64700846,  179502.00677001,\n",
       "        970572.55044702,  323224.32502399,  397730.07914073,\n",
       "       1084254.22634561,  909410.00406007,  495084.66769584,\n",
       "        687842.02443066,  635050.97597248,  601860.69684749,\n",
       "        712666.64851784,  342539.74550308,   80946.44439413,\n",
       "        337974.56695889,  151828.71935269,  282851.40271161,\n",
       "        159647.52122609,  418136.73980442,  702977.62823318,\n",
       "        320553.88769979,  783275.69656848,  279716.09033588,\n",
       "        601236.65982621,  743874.21016246,  192985.27365132,\n",
       "        121822.39145043,  218313.92159545,  293163.14661761,\n",
       "       2291342.26996336,  123120.19263362,  315289.22317033,\n",
       "        498209.61268095,  483541.48353996,  100523.69001192,\n",
       "        764108.38938318,  285458.46117098,  185506.59540489,\n",
       "        714758.14075347,  152572.98952136, 2411617.40617777,\n",
       "        507749.81032347,  262919.7669299 ,  981566.11711337,\n",
       "        287927.53459241,  401904.49928556,  533077.63913485,\n",
       "        133973.77461123, 3672495.22055515,  115412.32290379,\n",
       "        124734.45662542,  244618.64701559,  475956.51440727,\n",
       "        414326.70585724,  128730.96143271,  166154.66777185,\n",
       "        846743.23168639,  198917.07471744,  525209.00380638,\n",
       "        341355.96212271,  276260.38092315,  729086.99920341,\n",
       "        237195.9923372 ,  325748.59494034,  442383.33674714,\n",
       "        479030.8883913 ,  101752.81591388,  342539.74550308,\n",
       "        419557.54029639,  407323.59147896,  676383.50080119,\n",
       "        198506.18661268,  148273.31679736,  658354.94626359,\n",
       "        420099.72592659,  550531.89228496,  395107.94850289,\n",
       "        151500.33059892,  693261.40602052,  543969.64700846,\n",
       "        300966.50725532,  898074.81272089,  492681.14152669,\n",
       "        351623.18955696,  216789.59522324,  805896.53710635,\n",
       "        132922.36147848,  432847.93426936,  448218.83703401,\n",
       "       1411322.98868218,  141622.93439756,  311127.40752996,\n",
       "        483541.48353996, 1139375.58397527,  942402.33258583,\n",
       "        171186.94900987,  610454.56862183,   97611.39752503,\n",
       "        315556.31460771,  341355.96212271, 1411322.98868218,\n",
       "        709319.1964777 ,  117870.26403906,  460838.50537103,\n",
       "        252201.58622987,  466726.47546702,  232096.29122543,\n",
       "        518177.71731806,  109621.73516512,  593560.98125516,\n",
       "        115412.32290379,  952491.77799238,  253202.66579494,\n",
       "        489681.52543767,  911074.91221351,  509309.9458367 ,\n",
       "        211778.97275009,  149443.44217634,  185362.36920774,\n",
       "        463222.88469324,  359032.57986193,  136724.49823709,\n",
       "       2198255.54457898,  570718.87295798, 3730835.01049563,\n",
       "        745111.68634913,  506572.05492973,  785177.80397855,\n",
       "        328851.09252573,  125177.49391297,  844148.29590707,\n",
       "        998514.93975912,  313596.15286198,  529467.61191164,\n",
       "        335420.80819718,  108833.00788796,  545660.23232909,\n",
       "        597381.63599006,  470924.30262138,  198814.12106855,\n",
       "        123120.19263362,  201347.12438264,  167983.9499696 ,\n",
       "        233587.32290736,  233075.69913946,  355308.89450022,\n",
       "        206645.27202268,  323769.6440808 ,  150230.23476127,\n",
       "        484113.59761446,  562753.68124303,  531590.36349599,\n",
       "        195059.38284548,  507749.81032347,  411070.17112058,\n",
       "        955647.71301104,  253958.95968214,  433408.54110565,\n",
       "        337974.56695889,  531834.18917449,  496892.65174372,\n",
       "        503140.12789927,  123120.19263362,  304681.15841245,\n",
       "        237741.67135861, 1143874.8887463 , 1133580.73772181,\n",
       "       1485462.90669341,  294438.29183389,  269566.39580826,\n",
       "        243066.04036721,  222907.900432  ,  461833.03846676,\n",
       "        359143.87830335,  846743.23168639,  483541.48353996,\n",
       "        332671.4372956 ,  516692.59329556,  452928.98703633,\n",
       "        489681.52543767,  218652.02406617,  112270.14828673,\n",
       "        299219.4526151 ,  419557.54029639,  227827.92814708,\n",
       "        257833.35331286,  512450.93864934,  308983.28268889,\n",
       "        123120.19263362, 1023350.19737012,  140500.01399663,\n",
       "        283520.0518905 ,  464663.43532988,  420099.72592659,\n",
       "        699968.32388162,  336554.5001914 ,  981566.11711337,\n",
       "        401836.32769538,  413992.22710306,  394763.10873875,\n",
       "        394128.34314522,  541834.79141875, 1390286.31922465,\n",
       "        302755.43139787,  591211.16893328,  273005.39520248,\n",
       "        335420.80819718,  322328.28775523,  658354.94626359,\n",
       "        705959.72128014,  455738.42671989,  540763.72317681,\n",
       "        413992.22710306,  261804.12630513,  750533.0192347 ,\n",
       "        107763.40147669,  234580.05949243,  415857.14385845,\n",
       "        516935.7762219 ,  503140.12789927,  341849.45993959,\n",
       "       1627108.49851744,  851649.18475927, 1920586.20237731,\n",
       "        391432.13576307,  658354.94626359,  758457.33992065,\n",
       "        580275.54018263,  545660.23232909, 2411617.40617777,\n",
       "        401983.0282139 ,  284708.16075674,  500773.75405398,\n",
       "        745111.68634913,  200902.07381272,  248100.29142959,\n",
       "        454837.2081938 ,  667328.15367718,  677025.96817587,\n",
       "       1084342.55169628,  499006.67634185,  546777.80428735,\n",
       "        165084.96386815,  189221.05283831,  496892.65174372,\n",
       "        387034.600309  ,  556666.58440737,  197919.6458311 ,\n",
       "        231732.48375846,  354238.90715688,  234974.13350989,\n",
       "        204690.25128722,  274580.78309695,  324465.72381487,\n",
       "       1531980.94034261, 1463560.92247443, 2411617.40617777,\n",
       "       4342183.73348297,  302755.43139787,  662379.92870598,\n",
       "        390424.97057121,  419744.689135  ,  931202.21613968,\n",
       "        388936.30409677,  259013.96059119,   87356.87316568,\n",
       "        533100.24965622, 1851929.24008918,  445919.16781297,\n",
       "        460286.21330075,  333269.12153173,  391052.59756574,\n",
       "        290573.9591121 ,  330862.58637871,  706252.09549348,\n",
       "        290355.28263168,  242879.70976121,  444451.0734319 ,\n",
       "        164958.57833005,  439227.61718553,  143298.22679932,\n",
       "       1133580.73772181,  341360.50781993,  866373.36821906,\n",
       "        746366.13114521,  627519.35415174,  497536.14486858,\n",
       "        663877.68943598,  466884.16704615,  443665.62336439,\n",
       "        272923.55057876,  744872.41475251,  909890.42697793,\n",
       "        543969.64700846,  165184.66360163,  163846.10267669,\n",
       "       1422321.66403304,  133973.77461123,  452030.22341724,\n",
       "        415407.26469387,  420099.72592659,  625521.44855175,\n",
       "        337949.79063223,  390424.97057121,  667649.45377491,\n",
       "        221235.58647004,  201486.69224625, 1423309.07082843,\n",
       "        122160.92541368,  102482.75053748,  239809.54223874,\n",
       "        429092.78416041,  378956.07265515,  336369.06371443,\n",
       "        100636.6076158 ,  514933.41267282,  142135.28577257,\n",
       "        250956.84351589,  369488.12468268,  407047.70805866,\n",
       "        637813.35876166,  255058.88205178,   92165.97329656,\n",
       "        114541.57216289,  330862.58637871,  186343.01840754,\n",
       "        550531.89228496,  555341.69033644,  104683.8750481 ,\n",
       "       2889481.27428434,  955647.71301104,  127916.47890924,\n",
       "       1984179.05641104,  247299.86287973,  803096.11581151,\n",
       "        381436.59373733,  663877.68943598,  871915.65704589,\n",
       "        123324.40934493,  545502.81581918,  563160.54792205,\n",
       "       1411322.98868218,  224219.13464785,  880278.63911515,\n",
       "        287927.53459241,  149679.37173675,  287927.53459241,\n",
       "        314284.21529337,  431850.60023256,  289412.41886911,\n",
       "        402198.83157353,  390424.97057121,  296525.12312028,\n",
       "        560528.28934071,  343452.09615834, 1411322.98868218,\n",
       "        503360.24117787,  289887.8899398 ,  346254.03371047,\n",
       "        328628.00418681,  134359.12281235,  382858.2439424 ,\n",
       "        376591.17955083,  670208.76215161, 2332646.94365246,\n",
       "        471466.76824332,  207129.07672185,  101349.48713049,\n",
       "        567579.89315439,  216789.59522324,  288410.39704211,\n",
       "       2637619.98142046,  105975.45286106,  467057.15418916,\n",
       "        350987.22072269,  399821.52585984,  407801.10619865,\n",
       "        554132.57696722,  121156.38912111,  181852.58920751,\n",
       "        157750.55034114,  113500.03439302,  167983.9499696 ,\n",
       "        149410.35621279,  522291.30541826,  615112.20465225,\n",
       "        341849.45993959,  955030.71025891,  698442.48110958,\n",
       "        739996.45911754,  637480.82730145,  514933.41267282,\n",
       "        665158.62178784,  305982.35444937, 1411322.98868218,\n",
       "       1411322.98868218,  931053.15208765,  315344.50107557,\n",
       "        121150.97527805,  229486.86067878,  143291.95867565,\n",
       "        412970.72599786,  557711.67225169,  717261.20474163,\n",
       "        474066.39511831,  623995.53175053,  419557.54029639,\n",
       "        110183.43494919, 2411617.40617777,  699968.32388162,\n",
       "        326680.54851018,  635050.97597248,  211499.67764737,\n",
       "        455200.74864619,  355050.69362328, 1405140.05705541,\n",
       "        388804.25071955,  546777.80428735,  454105.88714492,\n",
       "        535237.43576216,  699968.32388162,  620226.00624396,\n",
       "        422538.96694041,   96236.38168379,  271859.00957612,\n",
       "        491741.76435322,  945187.28377884,  418136.73980442,\n",
       "       1029675.3831634 ,   99089.97108224,  606405.02673372,\n",
       "        359497.59889285,  407995.11948114,  113792.48155142,\n",
       "        548589.88479307])"
      ]
     },
     "execution_count": 48,
     "metadata": {},
     "output_type": "execute_result"
    }
   ],
   "source": [
    "predictions"
   ]
  },
  {
   "cell_type": "code",
   "execution_count": 49,
   "metadata": {},
   "outputs": [
    {
     "data": {
      "text/plain": [
       "<matplotlib.axes._subplots.AxesSubplot at 0x1dffc105550>"
      ]
     },
     "execution_count": 49,
     "metadata": {},
     "output_type": "execute_result"
    },
    {
     "data": {
      "image/png": "[encoded data removed]",
      "text/plain": [
       "<Figure size 432x288 with 1 Axes>"
      ]
     },
     "metadata": {
      "needs_background": "light"
     },
     "output_type": "display_data"
    }
   ],
   "source": [
    "sns.distplot(y_test-predictions)"
   ]
  },
  {
   "cell_type": "code",
   "execution_count": 57,
   "metadata": {},
   "outputs": [
    {
     "data": {
      "text/plain": [
       "<matplotlib.collections.PathCollection at 0x1dff86dc1c0>"
      ]
     },
     "execution_count": 57,
     "metadata": {},
     "output_type": "execute_result"
    },
    {
     "data": {
      "image/png": "[encoded data removed]",
      "text/plain": [
       "<Figure size 432x288 with 1 Axes>"
      ]
     },
     "metadata": {
      "needs_background": "light"
     },
     "output_type": "display_data"
    }
   ],
   "source": [
    "plt.scatter(y_test,predictions)"
   ]
  },
  {
   "cell_type": "code",
   "execution_count": 59,
   "metadata": {},
   "outputs": [],
   "source": [
    "import pickle\n",
    "#open a file,where you ant to store the data \n",
    "file=open('random_forest_regression_model.pkl','wb')\n",
    "#dump information to that file\n",
    "pickle.dump(rf_random,file)"
   ]
  },
  {
   "cell_type": "code",
   "execution_count": null,
   "metadata": {},
   "outputs": [],
   "source": []
  },
  {
   "cell_type": "code",
   "execution_count": null,
   "metadata": {},
   "outputs": [],
   "source": []
  }
 ],
 "metadata": {
  "kernelspec": {
   "display_name": "Python 3",
   "language": "python",
   "name": "python3"
  },
  "language_info": {
   "codemirror_mode": {
    "name": "ipython",
    "version": 3
   },
   "file_extension": ".py",
   "mimetype": "text/x-python",
   "name": "python",
   "nbconvert_exporter": "python",
   "pygments_lexer": "ipython3",
   "version": "3.8.3"
  }
 },
 "nbformat": 4,
 "nbformat_minor": 4
}
